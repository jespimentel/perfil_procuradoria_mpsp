{
  "nbformat": 4,
  "nbformat_minor": 0,
  "metadata": {
    "colab": {
      "name": "antiguidade_2022.ipynb",
      "provenance": [],
      "collapsed_sections": [],
      "mount_file_id": "13ll004iQhWs8nj0DL1YigSR33tSVpp2q",
      "authorship_tag": "ABX9TyN4HYMvurmhs/VzWTNpDnze",
      "include_colab_link": true
    },
    "kernelspec": {
      "name": "python3",
      "display_name": "Python 3"
    },
    "language_info": {
      "name": "python"
    }
  },
  "cells": [
    {
      "cell_type": "markdown",
      "metadata": {
        "id": "view-in-github",
        "colab_type": "text"
      },
      "source": [
        "<a href=\"https://colab.research.google.com/github/jespimentel/perfil_procuradoria_mpsp/blob/master/antiguidade_2022.ipynb\" target=\"_parent\"><img src=\"https://colab.research.google.com/assets/colab-badge.svg\" alt=\"Open In Colab\"/></a>"
      ]
    },
    {
      "cell_type": "code",
      "source": [
        "arquivos = ['/content/drive/MyDrive/Datasets/listas_ant/Lista-I-Procurador.pdf','/content/drive/MyDrive/Datasets/listas_ant/Lista-II-Final.pdf',\n",
        "          '/content/drive/MyDrive/Datasets/listas_ant/Lista-III-Intermediaria.pdf','/content/drive/MyDrive/Datasets/listas_ant/Lista-IV-Inicial.pdf',\n",
        "          '/content/drive/MyDrive/Datasets/listas_ant/Lista-V-Substituto.pdf'] # Total: 1944 membros"
      ],
      "metadata": {
        "id": "g3Ec-uSKi7-u"
      },
      "execution_count": 1,
      "outputs": []
    },
    {
      "cell_type": "code",
      "source": [
        "!pip install pymupdf"
      ],
      "metadata": {
        "colab": {
          "base_uri": "https://localhost:8080/"
        },
        "id": "4aXjT4RWKLoR",
        "outputId": "d4a5ca7d-9167-4382-bd7c-2d660a221925"
      },
      "execution_count": 2,
      "outputs": [
        {
          "output_type": "stream",
          "name": "stdout",
          "text": [
            "Requirement already satisfied: pymupdf in /usr/local/lib/python3.7/dist-packages (1.19.5)\n"
          ]
        }
      ]
    },
    {
      "cell_type": "code",
      "source": [
        "import fitz\n",
        "import re\n",
        "import pandas as pd\n",
        "import numpy as np\n",
        "from datetime import datetime\n",
        "import matplotlib.pyplot as plt\n",
        "import seaborn as sns"
      ],
      "metadata": {
        "id": "SOjyLgweNU7y"
      },
      "execution_count": 3,
      "outputs": []
    },
    {
      "cell_type": "code",
      "source": [
        "# Funções\n",
        "\n",
        "def extrai_texto(arquivo):\n",
        "  \"\"\"Extrai o texto do PDF\"\"\"\n",
        "  texto = ''\n",
        "  with fitz.open(arquivo) as pdf:\n",
        "    for pagina in pdf:\n",
        "      texto += pagina.get_text() # type(texto) = str\n",
        "  return texto\n",
        "\n",
        "def encontra_membros(texto):\n",
        "  \"\"\"Encontra os membros por RegEx\"\"\"\n",
        "  r = re.compile('[0-9]+\\n[0-9]+\\n[A-ZÀ-Ú].+') # Admite acentos\n",
        "  resultado = r.findall(texto)\n",
        "  return resultado\n",
        "\n",
        "def gera_lista (resultado, texto):\n",
        "  \"\"\"Gera a lista de membros\"\"\"\n",
        "  for r in resultado:\n",
        "    texto = texto.replace(r, '|' + r) # Marca as correspondências com o padrão\n",
        "  texto = texto.replace('\\n', ',')\n",
        "  texto = texto.split('|') # Converte em lista (uma linha por membro)\n",
        "  texto = texto[1:] # Suprime o cabeçalho\n",
        "  lista_membros=list() # Gera a lista de listas\n",
        "  for n in texto:\n",
        "    n = n.split(',')\n",
        "    n = n[:17]\n",
        "    lista_membros.append(n)\n",
        "  return lista_membros\n",
        "\n",
        "def limpa_lista(lista_membros):\n",
        "  \"\"\"Limpa a lista\"\"\"\n",
        "  nova_lista_membros=[]\n",
        "  for membro in lista_membros:\n",
        "    r = re.compile('\\d{2}/\\d{2}/\\d{4}')\n",
        "    datas=[]\n",
        "    for n in membro:\n",
        "      if r.search(n):\n",
        "        datas.append(r.findall(n)[0])\n",
        "    nova_lista_membros.append(membro[0:5] + datas)\n",
        "  print(f'Foram encontrados {len(nova_lista_membros)} membros na lista em processamento.')\n",
        "  return (nova_lista_membros)\n",
        "\n",
        "def inclui_fonte(lista, arquivo):\n",
        "  \"\"\"Inclui o nome do arquivo de origem nas listas geradas\"\"\"\n",
        "  nome_arquivo = arquivo.split('/')[-1]\n",
        "  for membro in lista:\n",
        "    membro.insert(5, nome_arquivo)\n",
        "    print(membro)\n",
        "  return lista\n",
        "\n",
        "def define_situacao_atual(lista):\n",
        "  \"\"\"Gera a lista com as datas relevantes para a classificação\"\"\"\n",
        "  nova_lista=[]\n",
        "  for exemplo in lista:\n",
        "    novo_exemplo = exemplo[0:3]+ exemplo[4:6]\n",
        "    if exemplo[3]=='22/12/2005':\n",
        "      novo_exemplo.append(exemplo[-5]) # Data de promoção considerada para a posição da lista\n",
        "      novo_exemplo.append(exemplo[-3])\n",
        "      novo_exemplo.append(exemplo[-1])\n",
        "    else:\n",
        "      novo_exemplo.append(exemplo[-4]) # Data da inclusão na lista se diferente de 22/12/2005\n",
        "      novo_exemplo.append(exemplo[-3])\n",
        "      novo_exemplo.append(exemplo[-1])\n",
        "    nova_lista.append(novo_exemplo)\n",
        "  return nova_lista"
      ],
      "metadata": {
        "id": "0Xohf4LxZp5D"
      },
      "execution_count": 4,
      "outputs": []
    },
    {
      "cell_type": "code",
      "source": [
        "lista_geral=[]\n",
        "for arquivo in arquivos:\n",
        "  nome_arquivo = arquivo.split('/')[-1]\n",
        "  texto = extrai_texto(arquivo)\n",
        "  resultado = encontra_membros(texto)\n",
        "  lista = gera_lista(resultado, texto)\n",
        "  lista = limpa_lista(lista)\n",
        "  for l in lista:\n",
        "    l.insert(5, nome_arquivo) # Inclui a origem dos dados\n",
        "  lista_geral.extend(lista)\n",
        "lista_todos_membros = define_situacao_atual(lista_geral)\n",
        "print(f'Total: {len(lista_todos_membros)}')"
      ],
      "metadata": {
        "colab": {
          "base_uri": "https://localhost:8080/"
        },
        "id": "bouMkoj7ETkh",
        "outputId": "31332a91-2a3c-4f9c-e8fb-f8b660b63b15"
      },
      "execution_count": 5,
      "outputs": [
        {
          "output_type": "stream",
          "name": "stdout",
          "text": [
            "Foram encontrados 300 membros na lista em processamento.\n",
            "Foram encontrados 1091 membros na lista em processamento.\n",
            "Foram encontrados 254 membros na lista em processamento.\n",
            "Foram encontrados 201 membros na lista em processamento.\n",
            "Foram encontrados 98 membros na lista em processamento.\n",
            "Total: 1944\n"
          ]
        }
      ]
    },
    {
      "cell_type": "code",
      "source": [
        "print(f'Lista 1 (Procuradores): {round(300/1994*100,2)}.%')\n",
        "print(f'Lista 2 (Finais): {round(1091/1994*100,2)}.%')\n",
        "print(f'Lista 3 (Intermediárias): {round(254/1994*100,2)}.%')\n",
        "print(f'Lista 4 (Iniciais): {round(201/1994*100,2)}.%')\n",
        "print(f'Lista 5 (Substitutos): {round(98/1994*100,2)}.%')"
      ],
      "metadata": {
        "colab": {
          "base_uri": "https://localhost:8080/"
        },
        "id": "VSSUPe7JkG9Y",
        "outputId": "35b5e296-091d-43aa-d482-17c9f1fe8f9a"
      },
      "execution_count": 6,
      "outputs": [
        {
          "output_type": "stream",
          "name": "stdout",
          "text": [
            "Lista 1 (Procuradores): 15.05.%\n",
            "Lista 2 (Finais): 54.71.%\n",
            "Lista 3 (Intermediárias): 12.74.%\n",
            "Lista 4 (Iniciais): 10.08.%\n",
            "Lista 5 (Substitutos): 4.91.%\n"
          ]
        }
      ]
    },
    {
      "cell_type": "code",
      "source": [
        "colunas = ['Classif.', 'Matr.', 'Nome', 'Cargo', 'Origem', 'Data-lista', 'Carreira', 'Nascimento']\n",
        "df = pd.DataFrame(lista_todos_membros, columns=colunas)\n",
        "df['Data-lista'] = pd.to_datetime(df['Data-lista'], infer_datetime_format=True)\n",
        "df['Carreira'] = pd.to_datetime(df['Carreira'], infer_datetime_format=True)\n",
        "df['Nascimento'] = pd.to_datetime(df['Nascimento'], infer_datetime_format=True)\n",
        "df['Idade atual'] = (datetime.now()- df['Nascimento'])/ np.timedelta64(1, 'Y')\n",
        "df['Tempo após data-lista'] = (datetime.now()- df['Data-lista'])/ np.timedelta64(1, 'Y')\n",
        "df['Idade promocao'] = (df['Data-lista'] - df['Nascimento'])/np.timedelta64(1, 'Y')\n",
        "df['Tempo carr. prom.'] = (df['Data-lista'] - df['Carreira'])/np.timedelta64(1, 'Y')\n",
        "df['Tempo carr. total'] = (datetime.now()- df['Carreira'])/ np.timedelta64(1, 'Y')\n",
        "df['Idade ingresso'] = (df['Carreira'] - df['Nascimento'])/np.timedelta64(1, 'Y')\n",
        "df = df[['Classif.', 'Matr.', 'Nome', 'Cargo', 'Origem', 'Data-lista','Idade promocao', 'Tempo carr. prom.',\n",
        "         'Tempo após data-lista', 'Carreira', 'Tempo carr. total','Idade ingresso','Nascimento', 'Idade atual']]\n",
        "df[['Classif.', 'Matr.', 'Origem', 'Data-lista','Idade promocao', 'Tempo carr. prom.','Tempo após data-lista',\n",
        "    'Carreira', 'Tempo carr. total','Idade ingresso','Nascimento', 'Idade atual']]"
      ],
      "metadata": {
        "colab": {
          "base_uri": "https://localhost:8080/",
          "height": 659
        },
        "id": "ixtZO9_G17pC",
        "outputId": "25034799-d07d-4d47-a573-5a4b8b8c47bb"
      },
      "execution_count": 7,
      "outputs": [
        {
          "output_type": "execute_result",
          "data": {
            "text/html": [
              "\n",
              "  <div id=\"df-8279fd0c-ac03-4391-a6be-0357d2f55094\">\n",
              "    <div class=\"colab-df-container\">\n",
              "      <div>\n",
              "<style scoped>\n",
              "    .dataframe tbody tr th:only-of-type {\n",
              "        vertical-align: middle;\n",
              "    }\n",
              "\n",
              "    .dataframe tbody tr th {\n",
              "        vertical-align: top;\n",
              "    }\n",
              "\n",
              "    .dataframe thead th {\n",
              "        text-align: right;\n",
              "    }\n",
              "</style>\n",
              "<table border=\"1\" class=\"dataframe\">\n",
              "  <thead>\n",
              "    <tr style=\"text-align: right;\">\n",
              "      <th></th>\n",
              "      <th>Classif.</th>\n",
              "      <th>Matr.</th>\n",
              "      <th>Origem</th>\n",
              "      <th>Data-lista</th>\n",
              "      <th>Idade promocao</th>\n",
              "      <th>Tempo carr. prom.</th>\n",
              "      <th>Tempo após data-lista</th>\n",
              "      <th>Carreira</th>\n",
              "      <th>Tempo carr. total</th>\n",
              "      <th>Idade ingresso</th>\n",
              "      <th>Nascimento</th>\n",
              "      <th>Idade atual</th>\n",
              "    </tr>\n",
              "  </thead>\n",
              "  <tbody>\n",
              "    <tr>\n",
              "      <th>0</th>\n",
              "      <td>1</td>\n",
              "      <td>618461</td>\n",
              "      <td>Lista-I-Procurador.pdf</td>\n",
              "      <td>1985-12-28</td>\n",
              "      <td>31.565330</td>\n",
              "      <td>8.290382</td>\n",
              "      <td>36.113005</td>\n",
              "      <td>1977-09-13</td>\n",
              "      <td>44.403388</td>\n",
              "      <td>23.274947</td>\n",
              "      <td>1954-06-05</td>\n",
              "      <td>67.678335</td>\n",
              "    </tr>\n",
              "    <tr>\n",
              "      <th>1</th>\n",
              "      <td>2</td>\n",
              "      <td>480141</td>\n",
              "      <td>Lista-I-Procurador.pdf</td>\n",
              "      <td>1988-06-29</td>\n",
              "      <td>35.918602</td>\n",
              "      <td>12.460215</td>\n",
              "      <td>33.610558</td>\n",
              "      <td>1976-01-13</td>\n",
              "      <td>46.070773</td>\n",
              "      <td>23.458387</td>\n",
              "      <td>1952-07-29</td>\n",
              "      <td>69.529160</td>\n",
              "    </tr>\n",
              "    <tr>\n",
              "      <th>2</th>\n",
              "      <td>3</td>\n",
              "      <td>152307</td>\n",
              "      <td>Lista-I-Procurador.pdf</td>\n",
              "      <td>1988-09-29</td>\n",
              "      <td>36.671526</td>\n",
              "      <td>9.829086</td>\n",
              "      <td>33.358671</td>\n",
              "      <td>1978-12-01</td>\n",
              "      <td>43.187757</td>\n",
              "      <td>26.842440</td>\n",
              "      <td>1952-01-28</td>\n",
              "      <td>70.030197</td>\n",
              "    </tr>\n",
              "    <tr>\n",
              "      <th>3</th>\n",
              "      <td>4</td>\n",
              "      <td>534178</td>\n",
              "      <td>Lista-I-Procurador.pdf</td>\n",
              "      <td>1989-11-07</td>\n",
              "      <td>39.239683</td>\n",
              "      <td>13.125526</td>\n",
              "      <td>32.252556</td>\n",
              "      <td>1976-09-22</td>\n",
              "      <td>45.378083</td>\n",
              "      <td>26.114157</td>\n",
              "      <td>1950-08-12</td>\n",
              "      <td>71.492240</td>\n",
              "    </tr>\n",
              "    <tr>\n",
              "      <th>4</th>\n",
              "      <td>5</td>\n",
              "      <td>444963</td>\n",
              "      <td>Lista-I-Procurador.pdf</td>\n",
              "      <td>1992-01-11</td>\n",
              "      <td>38.442952</td>\n",
              "      <td>14.327467</td>\n",
              "      <td>30.075920</td>\n",
              "      <td>1977-09-13</td>\n",
              "      <td>44.403388</td>\n",
              "      <td>24.115485</td>\n",
              "      <td>1953-08-02</td>\n",
              "      <td>68.518873</td>\n",
              "    </tr>\n",
              "    <tr>\n",
              "      <th>...</th>\n",
              "      <td>...</td>\n",
              "      <td>...</td>\n",
              "      <td>...</td>\n",
              "      <td>...</td>\n",
              "      <td>...</td>\n",
              "      <td>...</td>\n",
              "      <td>...</td>\n",
              "      <td>...</td>\n",
              "      <td>...</td>\n",
              "      <td>...</td>\n",
              "      <td>...</td>\n",
              "      <td>...</td>\n",
              "    </tr>\n",
              "    <tr>\n",
              "      <th>1939</th>\n",
              "      <td>94</td>\n",
              "      <td>011376</td>\n",
              "      <td>Lista-V-Substituto.pdf</td>\n",
              "      <td>2021-01-07</td>\n",
              "      <td>32.791912</td>\n",
              "      <td>0.000000</td>\n",
              "      <td>1.084223</td>\n",
              "      <td>2021-01-07</td>\n",
              "      <td>1.084223</td>\n",
              "      <td>32.791912</td>\n",
              "      <td>1988-03-24</td>\n",
              "      <td>33.876135</td>\n",
              "    </tr>\n",
              "    <tr>\n",
              "      <th>1940</th>\n",
              "      <td>95</td>\n",
              "      <td>011378</td>\n",
              "      <td>Lista-V-Substituto.pdf</td>\n",
              "      <td>2021-01-07</td>\n",
              "      <td>31.819955</td>\n",
              "      <td>0.000000</td>\n",
              "      <td>1.084223</td>\n",
              "      <td>2021-01-07</td>\n",
              "      <td>1.084223</td>\n",
              "      <td>31.819955</td>\n",
              "      <td>1989-03-14</td>\n",
              "      <td>32.904178</td>\n",
              "    </tr>\n",
              "    <tr>\n",
              "      <th>1941</th>\n",
              "      <td>96</td>\n",
              "      <td>011379</td>\n",
              "      <td>Lista-V-Substituto.pdf</td>\n",
              "      <td>2021-01-07</td>\n",
              "      <td>28.526253</td>\n",
              "      <td>0.000000</td>\n",
              "      <td>1.084223</td>\n",
              "      <td>2021-01-07</td>\n",
              "      <td>1.084223</td>\n",
              "      <td>28.526253</td>\n",
              "      <td>1992-06-29</td>\n",
              "      <td>29.610476</td>\n",
              "    </tr>\n",
              "    <tr>\n",
              "      <th>1942</th>\n",
              "      <td>97</td>\n",
              "      <td>011380</td>\n",
              "      <td>Lista-V-Substituto.pdf</td>\n",
              "      <td>2021-01-07</td>\n",
              "      <td>31.094410</td>\n",
              "      <td>0.000000</td>\n",
              "      <td>1.084223</td>\n",
              "      <td>2021-01-07</td>\n",
              "      <td>1.084223</td>\n",
              "      <td>31.094410</td>\n",
              "      <td>1989-12-04</td>\n",
              "      <td>32.178633</td>\n",
              "    </tr>\n",
              "    <tr>\n",
              "      <th>1943</th>\n",
              "      <td>98</td>\n",
              "      <td>011381</td>\n",
              "      <td>Lista-V-Substituto.pdf</td>\n",
              "      <td>2021-01-07</td>\n",
              "      <td>36.058235</td>\n",
              "      <td>0.000000</td>\n",
              "      <td>1.084223</td>\n",
              "      <td>2021-01-07</td>\n",
              "      <td>1.084223</td>\n",
              "      <td>36.058235</td>\n",
              "      <td>1984-12-17</td>\n",
              "      <td>37.142458</td>\n",
              "    </tr>\n",
              "  </tbody>\n",
              "</table>\n",
              "<p>1944 rows × 12 columns</p>\n",
              "</div>\n",
              "      <button class=\"colab-df-convert\" onclick=\"convertToInteractive('df-8279fd0c-ac03-4391-a6be-0357d2f55094')\"\n",
              "              title=\"Convert this dataframe to an interactive table.\"\n",
              "              style=\"display:none;\">\n",
              "        \n",
              "  <svg xmlns=\"http://www.w3.org/2000/svg\" height=\"24px\"viewBox=\"0 0 24 24\"\n",
              "       width=\"24px\">\n",
              "    <path d=\"M0 0h24v24H0V0z\" fill=\"none\"/>\n",
              "    <path d=\"M18.56 5.44l.94 2.06.94-2.06 2.06-.94-2.06-.94-.94-2.06-.94 2.06-2.06.94zm-11 1L8.5 8.5l.94-2.06 2.06-.94-2.06-.94L8.5 2.5l-.94 2.06-2.06.94zm10 10l.94 2.06.94-2.06 2.06-.94-2.06-.94-.94-2.06-.94 2.06-2.06.94z\"/><path d=\"M17.41 7.96l-1.37-1.37c-.4-.4-.92-.59-1.43-.59-.52 0-1.04.2-1.43.59L10.3 9.45l-7.72 7.72c-.78.78-.78 2.05 0 2.83L4 21.41c.39.39.9.59 1.41.59.51 0 1.02-.2 1.41-.59l7.78-7.78 2.81-2.81c.8-.78.8-2.07 0-2.86zM5.41 20L4 18.59l7.72-7.72 1.47 1.35L5.41 20z\"/>\n",
              "  </svg>\n",
              "      </button>\n",
              "      \n",
              "  <style>\n",
              "    .colab-df-container {\n",
              "      display:flex;\n",
              "      flex-wrap:wrap;\n",
              "      gap: 12px;\n",
              "    }\n",
              "\n",
              "    .colab-df-convert {\n",
              "      background-color: #E8F0FE;\n",
              "      border: none;\n",
              "      border-radius: 50%;\n",
              "      cursor: pointer;\n",
              "      display: none;\n",
              "      fill: #1967D2;\n",
              "      height: 32px;\n",
              "      padding: 0 0 0 0;\n",
              "      width: 32px;\n",
              "    }\n",
              "\n",
              "    .colab-df-convert:hover {\n",
              "      background-color: #E2EBFA;\n",
              "      box-shadow: 0px 1px 2px rgba(60, 64, 67, 0.3), 0px 1px 3px 1px rgba(60, 64, 67, 0.15);\n",
              "      fill: #174EA6;\n",
              "    }\n",
              "\n",
              "    [theme=dark] .colab-df-convert {\n",
              "      background-color: #3B4455;\n",
              "      fill: #D2E3FC;\n",
              "    }\n",
              "\n",
              "    [theme=dark] .colab-df-convert:hover {\n",
              "      background-color: #434B5C;\n",
              "      box-shadow: 0px 1px 3px 1px rgba(0, 0, 0, 0.15);\n",
              "      filter: drop-shadow(0px 1px 2px rgba(0, 0, 0, 0.3));\n",
              "      fill: #FFFFFF;\n",
              "    }\n",
              "  </style>\n",
              "\n",
              "      <script>\n",
              "        const buttonEl =\n",
              "          document.querySelector('#df-8279fd0c-ac03-4391-a6be-0357d2f55094 button.colab-df-convert');\n",
              "        buttonEl.style.display =\n",
              "          google.colab.kernel.accessAllowed ? 'block' : 'none';\n",
              "\n",
              "        async function convertToInteractive(key) {\n",
              "          const element = document.querySelector('#df-8279fd0c-ac03-4391-a6be-0357d2f55094');\n",
              "          const dataTable =\n",
              "            await google.colab.kernel.invokeFunction('convertToInteractive',\n",
              "                                                     [key], {});\n",
              "          if (!dataTable) return;\n",
              "\n",
              "          const docLinkHtml = 'Like what you see? Visit the ' +\n",
              "            '<a target=\"_blank\" href=https://colab.research.google.com/notebooks/data_table.ipynb>data table notebook</a>'\n",
              "            + ' to learn more about interactive tables.';\n",
              "          element.innerHTML = '';\n",
              "          dataTable['output_type'] = 'display_data';\n",
              "          await google.colab.output.renderOutput(dataTable, element);\n",
              "          const docLink = document.createElement('div');\n",
              "          docLink.innerHTML = docLinkHtml;\n",
              "          element.appendChild(docLink);\n",
              "        }\n",
              "      </script>\n",
              "    </div>\n",
              "  </div>\n",
              "  "
            ],
            "text/plain": [
              "     Classif.   Matr.  ... Nascimento Idade atual\n",
              "0           1  618461  ... 1954-06-05   67.678335\n",
              "1           2  480141  ... 1952-07-29   69.529160\n",
              "2           3  152307  ... 1952-01-28   70.030197\n",
              "3           4  534178  ... 1950-08-12   71.492240\n",
              "4           5  444963  ... 1953-08-02   68.518873\n",
              "...       ...     ...  ...        ...         ...\n",
              "1939       94  011376  ... 1988-03-24   33.876135\n",
              "1940       95  011378  ... 1989-03-14   32.904178\n",
              "1941       96  011379  ... 1992-06-29   29.610476\n",
              "1942       97  011380  ... 1989-12-04   32.178633\n",
              "1943       98  011381  ... 1984-12-17   37.142458\n",
              "\n",
              "[1944 rows x 12 columns]"
            ]
          },
          "metadata": {},
          "execution_count": 7
        }
      ]
    },
    {
      "cell_type": "code",
      "source": [
        "hoje = datetime.today().strftime('%Y-%m-%d')\n",
        "df.to_excel(f'listas_{hoje}.xlsx')"
      ],
      "metadata": {
        "id": "QufAqmRMZubY"
      },
      "execution_count": 8,
      "outputs": []
    },
    {
      "cell_type": "code",
      "source": [
        "procuradores = df[df['Origem']=='Lista-I-Procurador.pdf']\n",
        "final = df[df['Origem']=='Lista-II-Final.pdf']\n",
        "intermediaria = df[df['Origem']=='Lista-III-Intermediaria.pdf']\n",
        "inicial = df[df['Origem']=='Lista-IV-Inicial.pdf']\n",
        "substitutos = df[df['Origem']=='Lista-V-Substituto.pdf']"
      ],
      "metadata": {
        "id": "74JbfRqvwwi5"
      },
      "execution_count": 9,
      "outputs": []
    },
    {
      "cell_type": "code",
      "source": [
        "plt.figure(figsize=(10, 6))\n",
        "ax = sns.countplot(df['Origem'])\n",
        "ax.set_title('Número de membros por listas (02/2022)')\n",
        "plt.savefig('01_n_membros_listas.jpg')\n",
        "plt.show()"
      ],
      "metadata": {
        "colab": {
          "base_uri": "https://localhost:8080/",
          "height": 476
        },
        "id": "-e6tcZqeFdHa",
        "outputId": "5511e35d-34c0-45b8-eaa9-58e4e723211b"
      },
      "execution_count": 10,
      "outputs": [
        {
          "output_type": "stream",
          "name": "stderr",
          "text": [
            "/usr/local/lib/python3.7/dist-packages/seaborn/_decorators.py:43: FutureWarning: Pass the following variable as a keyword arg: x. From version 0.12, the only valid positional argument will be `data`, and passing other arguments without an explicit keyword will result in an error or misinterpretation.\n",
            "  FutureWarning\n",
            "\n"
          ]
        },
        {
          "output_type": "display_data",
          "data": {
            "image/png": "[encoded data removed]",
            "text/plain": [
              "<Figure size 720x432 with 1 Axes>"
            ]
          },
          "metadata": {
            "needs_background": "light"
          }
        }
      ]
    },
    {
      "cell_type": "code",
      "source": [
        "(df.groupby(['Origem'])['Nome'].count())"
      ],
      "metadata": {
        "colab": {
          "base_uri": "https://localhost:8080/"
        },
        "id": "hOT5sUGpPfGM",
        "outputId": "2cbfbe6e-1362-46f3-ea95-2abb84d6e006"
      },
      "execution_count": 11,
      "outputs": [
        {
          "output_type": "execute_result",
          "data": {
            "text/plain": [
              "Origem\n",
              "Lista-I-Procurador.pdf          300\n",
              "Lista-II-Final.pdf             1091\n",
              "Lista-III-Intermediaria.pdf     254\n",
              "Lista-IV-Inicial.pdf            201\n",
              "Lista-V-Substituto.pdf           98\n",
              "Name: Nome, dtype: int64"
            ]
          },
          "metadata": {},
          "execution_count": 11
        }
      ]
    },
    {
      "cell_type": "code",
      "source": [
        "df['Idade atual'].describe()"
      ],
      "metadata": {
        "colab": {
          "base_uri": "https://localhost:8080/"
        },
        "id": "SCAMBXUTSKll",
        "outputId": "de054db9-e61d-4d7a-f678-15e1d311f10d"
      },
      "execution_count": 12,
      "outputs": [
        {
          "output_type": "execute_result",
          "data": {
            "text/plain": [
              "count    1944.000000\n",
              "mean       49.243138\n",
              "std         9.670910\n",
              "min        27.603590\n",
              "25%        41.546382\n",
              "50%        49.416495\n",
              "75%        56.201029\n",
              "max        74.955692\n",
              "Name: Idade atual, dtype: float64"
            ]
          },
          "metadata": {},
          "execution_count": 12
        }
      ]
    },
    {
      "cell_type": "code",
      "source": [
        "df['Tempo carr. total'].describe()"
      ],
      "metadata": {
        "colab": {
          "base_uri": "https://localhost:8080/"
        },
        "id": "Lgub3EFVSRg7",
        "outputId": "a2e8c556-89e1-467c-a1ba-9521ae446aeb"
      },
      "execution_count": 13,
      "outputs": [
        {
          "output_type": "execute_result",
          "data": {
            "text/plain": [
              "count    1944.000000\n",
              "mean       21.421916\n",
              "std        10.819204\n",
              "min         1.084223\n",
              "25%        10.858551\n",
              "50%        22.650717\n",
              "75%        30.136154\n",
              "max        49.071519\n",
              "Name: Tempo carr. total, dtype: float64"
            ]
          },
          "metadata": {},
          "execution_count": 13
        }
      ]
    },
    {
      "cell_type": "code",
      "source": [
        "plt.figure(figsize=(10, 6))\n",
        "ax = sns.histplot(df['Idade atual'], color='gray')\n",
        "ax.set_title('Distribuição das idades na carreira (02/2022)')\n",
        "plt.savefig('02_idades_careira.jpg')\n",
        "plt.show()"
      ],
      "metadata": {
        "colab": {
          "base_uri": "https://localhost:8080/",
          "height": 404
        },
        "id": "aWZA_opADk3z",
        "outputId": "61c26a16-4be5-483a-c5e8-08b812b02248"
      },
      "execution_count": 14,
      "outputs": [
        {
          "output_type": "display_data",
          "data": {
            "image/png": "[encoded data removed]",
            "text/plain": [
              "<Figure size 720x432 with 1 Axes>"
            ]
          },
          "metadata": {
            "needs_background": "light"
          }
        }
      ]
    },
    {
      "cell_type": "code",
      "source": [
        "plt.figure(figsize=(10, 6))\n",
        "ax = sns.histplot(procuradores['Idade atual'], color='r')\n",
        "ax.set_title('Distribuição das idades entre Procuradores (02/2022)')\n",
        "plt.savefig('03_idades_procuradores.jpg')\n",
        "plt.show()"
      ],
      "metadata": {
        "colab": {
          "base_uri": "https://localhost:8080/",
          "height": 404
        },
        "id": "kT5MBOZX_YiO",
        "outputId": "d7cdeb63-fe23-488b-a5c4-ae969b3bb91c"
      },
      "execution_count": 15,
      "outputs": [
        {
          "output_type": "display_data",
          "data": {
            "image/png": "[encoded data removed]",
            "text/plain": [
              "<Figure size 720x432 with 1 Axes>"
            ]
          },
          "metadata": {
            "needs_background": "light"
          }
        }
      ]
    },
    {
      "cell_type": "code",
      "source": [
        "plt.figure(figsize=(10, 6))\n",
        "ax = sns.histplot(final['Idade atual'], color='g')\n",
        "ax.set_title('Distribuição das idades na Lista de Finais (02/2022)')\n",
        "plt.savefig('04_idades_finais.jpg')\n",
        "plt.show()"
      ],
      "metadata": {
        "colab": {
          "base_uri": "https://localhost:8080/",
          "height": 404
        },
        "id": "Ak9v2xuUvnhR",
        "outputId": "12b333ab-365a-467d-ddfd-67515bcc6e16"
      },
      "execution_count": 16,
      "outputs": [
        {
          "output_type": "display_data",
          "data": {
            "image/png": "[encoded data removed]",
            "text/plain": [
              "<Figure size 720x432 with 1 Axes>"
            ]
          },
          "metadata": {
            "needs_background": "light"
          }
        }
      ]
    },
    {
      "cell_type": "code",
      "source": [
        "plt.figure(figsize=(10, 6))\n",
        "ax = sns.histplot(intermediaria['Idade atual'], color='y')\n",
        "ax.set_title('Distribuição das idades na Lista de Intermediárias (02/2022)')\n",
        "plt.savefig('05_idades_intermediarias.jpg')\n",
        "plt.show()"
      ],
      "metadata": {
        "colab": {
          "base_uri": "https://localhost:8080/",
          "height": 404
        },
        "id": "hQygbMIVEHyE",
        "outputId": "cb3deed4-366a-474d-8ab7-f96a7363cd18"
      },
      "execution_count": 17,
      "outputs": [
        {
          "output_type": "display_data",
          "data": {
            "image/png": "[encoded data removed]",
            "text/plain": [
              "<Figure size 720x432 with 1 Axes>"
            ]
          },
          "metadata": {
            "needs_background": "light"
          }
        }
      ]
    },
    {
      "cell_type": "code",
      "source": [
        "plt.figure(figsize=(10, 6))\n",
        "ax = sns.histplot(inicial['Idade atual'], color='m')\n",
        "ax.set_title('Distribuição das idades na Lista de Iniciais (02/2022)')\n",
        "plt.savefig('06_idades_iniciais.jpg')\n",
        "plt.show()"
      ],
      "metadata": {
        "colab": {
          "base_uri": "https://localhost:8080/",
          "height": 404
        },
        "id": "3W81HLD0EWxR",
        "outputId": "ccf241c9-a95b-4984-94d5-54ef009c37c4"
      },
      "execution_count": 18,
      "outputs": [
        {
          "output_type": "display_data",
          "data": {
            "image/png": "[encoded data removed]",
            "text/plain": [
              "<Figure size 720x432 with 1 Axes>"
            ]
          },
          "metadata": {
            "needs_background": "light"
          }
        }
      ]
    },
    {
      "cell_type": "code",
      "source": [
        "plt.figure(figsize=(10, 6))\n",
        "ax = sns.histplot(substitutos['Idade atual'], color='b')\n",
        "ax.set_title('Distribuição das idades na Lista de Substitutos (02/2022)')\n",
        "plt.savefig('07_idade_substitutos.jpg')\n",
        "plt.show()"
      ],
      "metadata": {
        "colab": {
          "base_uri": "https://localhost:8080/",
          "height": 404
        },
        "id": "vPJuAEskEpNb",
        "outputId": "75b0b9a5-cfb2-48a1-ed40-eb4e93bd170f"
      },
      "execution_count": 19,
      "outputs": [
        {
          "output_type": "display_data",
          "data": {
            "image/png": "[encoded data removed]",
            "text/plain": [
              "<Figure size 720x432 with 1 Axes>"
            ]
          },
          "metadata": {
            "needs_background": "light"
          }
        }
      ]
    },
    {
      "cell_type": "code",
      "source": [
        "plt.figure(figsize=(10, 6))\n",
        "dados=procuradores.groupby(procuradores['Data-lista'].dt.year)['Idade promocao'].mean()\n",
        "dados.plot(xlabel='Ano de promoção', ylabel='Idade').set_title('Procuradores: idades médias na promoção (levant.: 02/2022)')\n",
        "plt.savefig('08_idades_promocao_procuradores.jpg')\n",
        "plt.show()"
      ],
      "metadata": {
        "colab": {
          "base_uri": "https://localhost:8080/",
          "height": 404
        },
        "id": "_dapssW3IRSt",
        "outputId": "7cbf8dd4-793e-492f-d115-e8668744cfb4"
      },
      "execution_count": 20,
      "outputs": [
        {
          "output_type": "display_data",
          "data": {
            "image/png": "[encoded data removed]",
            "text/plain": [
              "<Figure size 720x432 with 1 Axes>"
            ]
          },
          "metadata": {
            "needs_background": "light"
          }
        }
      ]
    },
    {
      "cell_type": "code",
      "source": [
        "dados.tail(12)"
      ],
      "metadata": {
        "colab": {
          "base_uri": "https://localhost:8080/"
        },
        "id": "VxufPGPznJfu",
        "outputId": "9d98b682-a36a-424d-9c29-d20770154e01"
      },
      "execution_count": 21,
      "outputs": [
        {
          "output_type": "execute_result",
          "data": {
            "text/plain": [
              "Data-lista\n",
              "2010    47.191478\n",
              "2011    48.935394\n",
              "2012    50.555453\n",
              "2013    50.554768\n",
              "2014    52.761293\n",
              "2015    53.178368\n",
              "2016    54.333080\n",
              "2017    53.951932\n",
              "2018    52.790133\n",
              "2019    55.410653\n",
              "2020    57.211094\n",
              "2021    63.519990\n",
              "Name: Idade promocao, dtype: float64"
            ]
          },
          "metadata": {},
          "execution_count": 21
        }
      ]
    },
    {
      "cell_type": "code",
      "source": [
        "plt.figure(figsize=(10, 6))\n",
        "dados1=procuradores.groupby(procuradores['Data-lista'].dt.year)['Tempo carr. prom.'].mean()\n",
        "dados1.plot(xlabel='Ano de promoção', ylabel='Tempo de carreira').set_title('Procuradores: tempo de carreira na promoção (levant.: 02/2022)')\n",
        "plt.savefig('09_tempo_carreira_promocao_procuradores.jpg')\n",
        "plt.show()"
      ],
      "metadata": {
        "colab": {
          "base_uri": "https://localhost:8080/",
          "height": 404
        },
        "id": "3lvgOssUSWL7",
        "outputId": "415b178a-63c5-4fa3-8ef6-9e2176bed564"
      },
      "execution_count": 22,
      "outputs": [
        {
          "output_type": "display_data",
          "data": {
            "image/png": "[encoded data removed]",
            "text/plain": [
              "<Figure size 720x432 with 1 Axes>"
            ]
          },
          "metadata": {
            "needs_background": "light"
          }
        }
      ]
    },
    {
      "cell_type": "code",
      "source": [
        "dados1.tail(12)"
      ],
      "metadata": {
        "colab": {
          "base_uri": "https://localhost:8080/"
        },
        "id": "nwPlurAmnXzB",
        "outputId": "b6dabde4-0a13-47ed-8bf4-6c3728a14f66"
      },
      "execution_count": 23,
      "outputs": [
        {
          "output_type": "execute_result",
          "data": {
            "text/plain": [
              "Data-lista\n",
              "2010    22.337671\n",
              "2011    22.151754\n",
              "2012    23.429515\n",
              "2013    24.251468\n",
              "2014    26.058030\n",
              "2015    26.509556\n",
              "2016    25.735641\n",
              "2017    26.974070\n",
              "2018    27.128825\n",
              "2019    29.492289\n",
              "2020    29.712188\n",
              "2021    32.911285\n",
              "Name: Tempo carr. prom., dtype: float64"
            ]
          },
          "metadata": {},
          "execution_count": 23
        }
      ]
    },
    {
      "cell_type": "code",
      "source": [
        "plt.figure(figsize=(10, 6))\n",
        "ax = sns.histplot(final['Tempo carr. total'], color='white')\n",
        "ax.set_title('Distribuição dos tempos de carreira entre os membros de Finais (02/2022)')\n",
        "plt.savefig('10_tempo_carreira_final.jpg')\n",
        "plt.show()"
      ],
      "metadata": {
        "colab": {
          "base_uri": "https://localhost:8080/",
          "height": 404
        },
        "id": "6ZSRLrotqTkv",
        "outputId": "c88e28a7-24b1-4a55-88fd-ad01a43101a5"
      },
      "execution_count": 24,
      "outputs": [
        {
          "output_type": "display_data",
          "data": {
            "image/png": "[encoded data removed]",
            "text/plain": [
              "<Figure size 720x432 with 1 Axes>"
            ]
          },
          "metadata": {
            "needs_background": "light"
          }
        }
      ]
    },
    {
      "cell_type": "code",
      "source": [
        "procuradores['Tempo carr. total'].describe()"
      ],
      "metadata": {
        "colab": {
          "base_uri": "https://localhost:8080/"
        },
        "id": "RoEYAMX-qvwO",
        "outputId": "4c4900e9-d5e9-4280-8dc2-22cbd74945cb"
      },
      "execution_count": 25,
      "outputs": [
        {
          "output_type": "execute_result",
          "data": {
            "text/plain": [
              "count    300.000000\n",
              "mean      34.856096\n",
              "std        3.785768\n",
              "min       28.249736\n",
              "25%       32.236129\n",
              "50%       34.084216\n",
              "75%       36.750938\n",
              "max       49.071519\n",
              "Name: Tempo carr. total, dtype: float64"
            ]
          },
          "metadata": {},
          "execution_count": 25
        }
      ]
    },
    {
      "cell_type": "code",
      "source": [
        "procuradores['Idade atual'].describe()"
      ],
      "metadata": {
        "colab": {
          "base_uri": "https://localhost:8080/"
        },
        "id": "NSiS9udSmxpx",
        "outputId": "cff859f2-ff2e-47ad-b638-134a3bded9e5"
      },
      "execution_count": 26,
      "outputs": [
        {
          "output_type": "execute_result",
          "data": {
            "text/plain": [
              "count    300.000000\n",
              "mean      61.681570\n",
              "std        5.012331\n",
              "min       52.335104\n",
              "25%       57.999834\n",
              "50%       60.937608\n",
              "75%       65.399028\n",
              "max       74.484772\n",
              "Name: Idade atual, dtype: float64"
            ]
          },
          "metadata": {},
          "execution_count": 26
        }
      ]
    },
    {
      "cell_type": "code",
      "source": [
        "final['Tempo carr. total'].describe()"
      ],
      "metadata": {
        "colab": {
          "base_uri": "https://localhost:8080/"
        },
        "id": "YvNqA8paqqZ5",
        "outputId": "622c4e4f-63ef-4f02-8f93-fe6e07e59e6e"
      },
      "execution_count": 27,
      "outputs": [
        {
          "output_type": "execute_result",
          "data": {
            "text/plain": [
              "count    1091.000000\n",
              "mean       23.016033\n",
              "std         8.143058\n",
              "min         6.045311\n",
              "25%        18.406961\n",
              "50%        25.153164\n",
              "75%        29.131342\n",
              "max        46.070773\n",
              "Name: Tempo carr. total, dtype: float64"
            ]
          },
          "metadata": {},
          "execution_count": 27
        }
      ]
    },
    {
      "cell_type": "code",
      "source": [
        "final['Idade atual'].describe()"
      ],
      "metadata": {
        "colab": {
          "base_uri": "https://localhost:8080/"
        },
        "id": "C1ZavhhGsP7K",
        "outputId": "9bcb1df4-4251-4ad5-8b76-9db1384fa190"
      },
      "execution_count": 28,
      "outputs": [
        {
          "output_type": "execute_result",
          "data": {
            "text/plain": [
              "count    1091.000000\n",
              "mean       50.131440\n",
              "std         7.369757\n",
              "min        30.431848\n",
              "25%        44.842822\n",
              "50%        50.659505\n",
              "75%        55.161993\n",
              "max        74.955692\n",
              "Name: Idade atual, dtype: float64"
            ]
          },
          "metadata": {},
          "execution_count": 28
        }
      ]
    },
    {
      "cell_type": "code",
      "source": [
        "df_2021 = df[df['Data-lista']>='2021-01-01']\n",
        "df_2021.groupby('Origem')['Idade promocao'].describe()\n"
      ],
      "metadata": {
        "id": "jpZiGv1bbQJz",
        "colab": {
          "base_uri": "https://localhost:8080/",
          "height": 238
        },
        "outputId": "8ed594f7-7493-477b-aa98-a68313a48791"
      },
      "execution_count": 29,
      "outputs": [
        {
          "output_type": "execute_result",
          "data": {
            "text/html": [
              "\n",
              "  <div id=\"df-6db58e36-8a3a-48a1-b859-b9f2c8e10b7b\">\n",
              "    <div class=\"colab-df-container\">\n",
              "      <div>\n",
              "<style scoped>\n",
              "    .dataframe tbody tr th:only-of-type {\n",
              "        vertical-align: middle;\n",
              "    }\n",
              "\n",
              "    .dataframe tbody tr th {\n",
              "        vertical-align: top;\n",
              "    }\n",
              "\n",
              "    .dataframe thead th {\n",
              "        text-align: right;\n",
              "    }\n",
              "</style>\n",
              "<table border=\"1\" class=\"dataframe\">\n",
              "  <thead>\n",
              "    <tr style=\"text-align: right;\">\n",
              "      <th></th>\n",
              "      <th>count</th>\n",
              "      <th>mean</th>\n",
              "      <th>std</th>\n",
              "      <th>min</th>\n",
              "      <th>25%</th>\n",
              "      <th>50%</th>\n",
              "      <th>75%</th>\n",
              "      <th>max</th>\n",
              "    </tr>\n",
              "    <tr>\n",
              "      <th>Origem</th>\n",
              "      <th></th>\n",
              "      <th></th>\n",
              "      <th></th>\n",
              "      <th></th>\n",
              "      <th></th>\n",
              "      <th></th>\n",
              "      <th></th>\n",
              "      <th></th>\n",
              "    </tr>\n",
              "  </thead>\n",
              "  <tbody>\n",
              "    <tr>\n",
              "      <th>Lista-I-Procurador.pdf</th>\n",
              "      <td>5.0</td>\n",
              "      <td>63.519990</td>\n",
              "      <td>5.049839</td>\n",
              "      <td>60.288712</td>\n",
              "      <td>60.639164</td>\n",
              "      <td>60.652854</td>\n",
              "      <td>63.842516</td>\n",
              "      <td>72.176705</td>\n",
              "    </tr>\n",
              "    <tr>\n",
              "      <th>Lista-II-Final.pdf</th>\n",
              "      <td>42.0</td>\n",
              "      <td>41.354586</td>\n",
              "      <td>6.193534</td>\n",
              "      <td>33.046538</td>\n",
              "      <td>36.134212</td>\n",
              "      <td>39.885829</td>\n",
              "      <td>44.944797</td>\n",
              "      <td>57.764362</td>\n",
              "    </tr>\n",
              "    <tr>\n",
              "      <th>Lista-III-Intermediaria.pdf</th>\n",
              "      <td>44.0</td>\n",
              "      <td>39.339057</td>\n",
              "      <td>4.224335</td>\n",
              "      <td>32.559190</td>\n",
              "      <td>36.227301</td>\n",
              "      <td>38.711267</td>\n",
              "      <td>41.312279</td>\n",
              "      <td>54.689692</td>\n",
              "    </tr>\n",
              "    <tr>\n",
              "      <th>Lista-IV-Inicial.pdf</th>\n",
              "      <td>45.0</td>\n",
              "      <td>34.988687</td>\n",
              "      <td>3.645197</td>\n",
              "      <td>29.473569</td>\n",
              "      <td>32.679658</td>\n",
              "      <td>34.316926</td>\n",
              "      <td>38.078811</td>\n",
              "      <td>43.562838</td>\n",
              "    </tr>\n",
              "    <tr>\n",
              "      <th>Lista-V-Substituto.pdf</th>\n",
              "      <td>76.0</td>\n",
              "      <td>31.471773</td>\n",
              "      <td>3.197753</td>\n",
              "      <td>26.519367</td>\n",
              "      <td>29.302450</td>\n",
              "      <td>30.839785</td>\n",
              "      <td>33.418893</td>\n",
              "      <td>41.947473</td>\n",
              "    </tr>\n",
              "  </tbody>\n",
              "</table>\n",
              "</div>\n",
              "      <button class=\"colab-df-convert\" onclick=\"convertToInteractive('df-6db58e36-8a3a-48a1-b859-b9f2c8e10b7b')\"\n",
              "              title=\"Convert this dataframe to an interactive table.\"\n",
              "              style=\"display:none;\">\n",
              "        \n",
              "  <svg xmlns=\"http://www.w3.org/2000/svg\" height=\"24px\"viewBox=\"0 0 24 24\"\n",
              "       width=\"24px\">\n",
              "    <path d=\"M0 0h24v24H0V0z\" fill=\"none\"/>\n",
              "    <path d=\"M18.56 5.44l.94 2.06.94-2.06 2.06-.94-2.06-.94-.94-2.06-.94 2.06-2.06.94zm-11 1L8.5 8.5l.94-2.06 2.06-.94-2.06-.94L8.5 2.5l-.94 2.06-2.06.94zm10 10l.94 2.06.94-2.06 2.06-.94-2.06-.94-.94-2.06-.94 2.06-2.06.94z\"/><path d=\"M17.41 7.96l-1.37-1.37c-.4-.4-.92-.59-1.43-.59-.52 0-1.04.2-1.43.59L10.3 9.45l-7.72 7.72c-.78.78-.78 2.05 0 2.83L4 21.41c.39.39.9.59 1.41.59.51 0 1.02-.2 1.41-.59l7.78-7.78 2.81-2.81c.8-.78.8-2.07 0-2.86zM5.41 20L4 18.59l7.72-7.72 1.47 1.35L5.41 20z\"/>\n",
              "  </svg>\n",
              "      </button>\n",
              "      \n",
              "  <style>\n",
              "    .colab-df-container {\n",
              "      display:flex;\n",
              "      flex-wrap:wrap;\n",
              "      gap: 12px;\n",
              "    }\n",
              "\n",
              "    .colab-df-convert {\n",
              "      background-color: #E8F0FE;\n",
              "      border: none;\n",
              "      border-radius: 50%;\n",
              "      cursor: pointer;\n",
              "      display: none;\n",
              "      fill: #1967D2;\n",
              "      height: 32px;\n",
              "      padding: 0 0 0 0;\n",
              "      width: 32px;\n",
              "    }\n",
              "\n",
              "    .colab-df-convert:hover {\n",
              "      background-color: #E2EBFA;\n",
              "      box-shadow: 0px 1px 2px rgba(60, 64, 67, 0.3), 0px 1px 3px 1px rgba(60, 64, 67, 0.15);\n",
              "      fill: #174EA6;\n",
              "    }\n",
              "\n",
              "    [theme=dark] .colab-df-convert {\n",
              "      background-color: #3B4455;\n",
              "      fill: #D2E3FC;\n",
              "    }\n",
              "\n",
              "    [theme=dark] .colab-df-convert:hover {\n",
              "      background-color: #434B5C;\n",
              "      box-shadow: 0px 1px 3px 1px rgba(0, 0, 0, 0.15);\n",
              "      filter: drop-shadow(0px 1px 2px rgba(0, 0, 0, 0.3));\n",
              "      fill: #FFFFFF;\n",
              "    }\n",
              "  </style>\n",
              "\n",
              "      <script>\n",
              "        const buttonEl =\n",
              "          document.querySelector('#df-6db58e36-8a3a-48a1-b859-b9f2c8e10b7b button.colab-df-convert');\n",
              "        buttonEl.style.display =\n",
              "          google.colab.kernel.accessAllowed ? 'block' : 'none';\n",
              "\n",
              "        async function convertToInteractive(key) {\n",
              "          const element = document.querySelector('#df-6db58e36-8a3a-48a1-b859-b9f2c8e10b7b');\n",
              "          const dataTable =\n",
              "            await google.colab.kernel.invokeFunction('convertToInteractive',\n",
              "                                                     [key], {});\n",
              "          if (!dataTable) return;\n",
              "\n",
              "          const docLinkHtml = 'Like what you see? Visit the ' +\n",
              "            '<a target=\"_blank\" href=https://colab.research.google.com/notebooks/data_table.ipynb>data table notebook</a>'\n",
              "            + ' to learn more about interactive tables.';\n",
              "          element.innerHTML = '';\n",
              "          dataTable['output_type'] = 'display_data';\n",
              "          await google.colab.output.renderOutput(dataTable, element);\n",
              "          const docLink = document.createElement('div');\n",
              "          docLink.innerHTML = docLinkHtml;\n",
              "          element.appendChild(docLink);\n",
              "        }\n",
              "      </script>\n",
              "    </div>\n",
              "  </div>\n",
              "  "
            ],
            "text/plain": [
              "                             count       mean  ...        75%        max\n",
              "Origem                                         ...                      \n",
              "Lista-I-Procurador.pdf         5.0  63.519990  ...  63.842516  72.176705\n",
              "Lista-II-Final.pdf            42.0  41.354586  ...  44.944797  57.764362\n",
              "Lista-III-Intermediaria.pdf   44.0  39.339057  ...  41.312279  54.689692\n",
              "Lista-IV-Inicial.pdf          45.0  34.988687  ...  38.078811  43.562838\n",
              "Lista-V-Substituto.pdf        76.0  31.471773  ...  33.418893  41.947473\n",
              "\n",
              "[5 rows x 8 columns]"
            ]
          },
          "metadata": {},
          "execution_count": 29
        }
      ]
    },
    {
      "cell_type": "code",
      "source": [
        "df_2021 = df[df['Data-lista']>='2021-01-01']\n",
        "df_2021.groupby('Origem')['Tempo carr. prom.'].describe()"
      ],
      "metadata": {
        "colab": {
          "base_uri": "https://localhost:8080/",
          "height": 238
        },
        "id": "O3WFgOaKqeLr",
        "outputId": "a4921f3d-6a2f-4144-853b-3bc37fdb8bd7"
      },
      "execution_count": 30,
      "outputs": [
        {
          "output_type": "execute_result",
          "data": {
            "text/html": [
              "\n",
              "  <div id=\"df-465d184b-face-4cb7-9366-fd7e56f6f672\">\n",
              "    <div class=\"colab-df-container\">\n",
              "      <div>\n",
              "<style scoped>\n",
              "    .dataframe tbody tr th:only-of-type {\n",
              "        vertical-align: middle;\n",
              "    }\n",
              "\n",
              "    .dataframe tbody tr th {\n",
              "        vertical-align: top;\n",
              "    }\n",
              "\n",
              "    .dataframe thead th {\n",
              "        text-align: right;\n",
              "    }\n",
              "</style>\n",
              "<table border=\"1\" class=\"dataframe\">\n",
              "  <thead>\n",
              "    <tr style=\"text-align: right;\">\n",
              "      <th></th>\n",
              "      <th>count</th>\n",
              "      <th>mean</th>\n",
              "      <th>std</th>\n",
              "      <th>min</th>\n",
              "      <th>25%</th>\n",
              "      <th>50%</th>\n",
              "      <th>75%</th>\n",
              "      <th>max</th>\n",
              "    </tr>\n",
              "    <tr>\n",
              "      <th>Origem</th>\n",
              "      <th></th>\n",
              "      <th></th>\n",
              "      <th></th>\n",
              "      <th></th>\n",
              "      <th></th>\n",
              "      <th></th>\n",
              "      <th></th>\n",
              "      <th></th>\n",
              "    </tr>\n",
              "  </thead>\n",
              "  <tbody>\n",
              "    <tr>\n",
              "      <th>Lista-I-Procurador.pdf</th>\n",
              "      <td>5.0</td>\n",
              "      <td>32.911285</td>\n",
              "      <td>2.567016</td>\n",
              "      <td>29.090262</td>\n",
              "      <td>31.967802</td>\n",
              "      <td>33.164268</td>\n",
              "      <td>34.607145</td>\n",
              "      <td>35.726949</td>\n",
              "    </tr>\n",
              "    <tr>\n",
              "      <th>Lista-II-Final.pdf</th>\n",
              "      <td>42.0</td>\n",
              "      <td>12.352263</td>\n",
              "      <td>6.974475</td>\n",
              "      <td>5.273209</td>\n",
              "      <td>5.692109</td>\n",
              "      <td>10.212393</td>\n",
              "      <td>17.886746</td>\n",
              "      <td>30.084122</td>\n",
              "    </tr>\n",
              "    <tr>\n",
              "      <th>Lista-III-Intermediaria.pdf</th>\n",
              "      <td>44.0</td>\n",
              "      <td>9.728530</td>\n",
              "      <td>4.104798</td>\n",
              "      <td>5.273209</td>\n",
              "      <td>7.288308</td>\n",
              "      <td>7.978261</td>\n",
              "      <td>11.945488</td>\n",
              "      <td>19.310458</td>\n",
              "    </tr>\n",
              "    <tr>\n",
              "      <th>Lista-IV-Inicial.pdf</th>\n",
              "      <td>45.0</td>\n",
              "      <td>4.320661</td>\n",
              "      <td>1.901381</td>\n",
              "      <td>2.636604</td>\n",
              "      <td>2.636604</td>\n",
              "      <td>2.880278</td>\n",
              "      <td>5.273209</td>\n",
              "      <td>7.608644</td>\n",
              "    </tr>\n",
              "    <tr>\n",
              "      <th>Lista-V-Substituto.pdf</th>\n",
              "      <td>76.0</td>\n",
              "      <td>0.000973</td>\n",
              "      <td>0.008480</td>\n",
              "      <td>0.000000</td>\n",
              "      <td>0.000000</td>\n",
              "      <td>0.000000</td>\n",
              "      <td>0.000000</td>\n",
              "      <td>0.073923</td>\n",
              "    </tr>\n",
              "  </tbody>\n",
              "</table>\n",
              "</div>\n",
              "      <button class=\"colab-df-convert\" onclick=\"convertToInteractive('df-465d184b-face-4cb7-9366-fd7e56f6f672')\"\n",
              "              title=\"Convert this dataframe to an interactive table.\"\n",
              "              style=\"display:none;\">\n",
              "        \n",
              "  <svg xmlns=\"http://www.w3.org/2000/svg\" height=\"24px\"viewBox=\"0 0 24 24\"\n",
              "       width=\"24px\">\n",
              "    <path d=\"M0 0h24v24H0V0z\" fill=\"none\"/>\n",
              "    <path d=\"M18.56 5.44l.94 2.06.94-2.06 2.06-.94-2.06-.94-.94-2.06-.94 2.06-2.06.94zm-11 1L8.5 8.5l.94-2.06 2.06-.94-2.06-.94L8.5 2.5l-.94 2.06-2.06.94zm10 10l.94 2.06.94-2.06 2.06-.94-2.06-.94-.94-2.06-.94 2.06-2.06.94z\"/><path d=\"M17.41 7.96l-1.37-1.37c-.4-.4-.92-.59-1.43-.59-.52 0-1.04.2-1.43.59L10.3 9.45l-7.72 7.72c-.78.78-.78 2.05 0 2.83L4 21.41c.39.39.9.59 1.41.59.51 0 1.02-.2 1.41-.59l7.78-7.78 2.81-2.81c.8-.78.8-2.07 0-2.86zM5.41 20L4 18.59l7.72-7.72 1.47 1.35L5.41 20z\"/>\n",
              "  </svg>\n",
              "      </button>\n",
              "      \n",
              "  <style>\n",
              "    .colab-df-container {\n",
              "      display:flex;\n",
              "      flex-wrap:wrap;\n",
              "      gap: 12px;\n",
              "    }\n",
              "\n",
              "    .colab-df-convert {\n",
              "      background-color: #E8F0FE;\n",
              "      border: none;\n",
              "      border-radius: 50%;\n",
              "      cursor: pointer;\n",
              "      display: none;\n",
              "      fill: #1967D2;\n",
              "      height: 32px;\n",
              "      padding: 0 0 0 0;\n",
              "      width: 32px;\n",
              "    }\n",
              "\n",
              "    .colab-df-convert:hover {\n",
              "      background-color: #E2EBFA;\n",
              "      box-shadow: 0px 1px 2px rgba(60, 64, 67, 0.3), 0px 1px 3px 1px rgba(60, 64, 67, 0.15);\n",
              "      fill: #174EA6;\n",
              "    }\n",
              "\n",
              "    [theme=dark] .colab-df-convert {\n",
              "      background-color: #3B4455;\n",
              "      fill: #D2E3FC;\n",
              "    }\n",
              "\n",
              "    [theme=dark] .colab-df-convert:hover {\n",
              "      background-color: #434B5C;\n",
              "      box-shadow: 0px 1px 3px 1px rgba(0, 0, 0, 0.15);\n",
              "      filter: drop-shadow(0px 1px 2px rgba(0, 0, 0, 0.3));\n",
              "      fill: #FFFFFF;\n",
              "    }\n",
              "  </style>\n",
              "\n",
              "      <script>\n",
              "        const buttonEl =\n",
              "          document.querySelector('#df-465d184b-face-4cb7-9366-fd7e56f6f672 button.colab-df-convert');\n",
              "        buttonEl.style.display =\n",
              "          google.colab.kernel.accessAllowed ? 'block' : 'none';\n",
              "\n",
              "        async function convertToInteractive(key) {\n",
              "          const element = document.querySelector('#df-465d184b-face-4cb7-9366-fd7e56f6f672');\n",
              "          const dataTable =\n",
              "            await google.colab.kernel.invokeFunction('convertToInteractive',\n",
              "                                                     [key], {});\n",
              "          if (!dataTable) return;\n",
              "\n",
              "          const docLinkHtml = 'Like what you see? Visit the ' +\n",
              "            '<a target=\"_blank\" href=https://colab.research.google.com/notebooks/data_table.ipynb>data table notebook</a>'\n",
              "            + ' to learn more about interactive tables.';\n",
              "          element.innerHTML = '';\n",
              "          dataTable['output_type'] = 'display_data';\n",
              "          await google.colab.output.renderOutput(dataTable, element);\n",
              "          const docLink = document.createElement('div');\n",
              "          docLink.innerHTML = docLinkHtml;\n",
              "          element.appendChild(docLink);\n",
              "        }\n",
              "      </script>\n",
              "    </div>\n",
              "  </div>\n",
              "  "
            ],
            "text/plain": [
              "                             count       mean  ...        75%        max\n",
              "Origem                                         ...                      \n",
              "Lista-I-Procurador.pdf         5.0  32.911285  ...  34.607145  35.726949\n",
              "Lista-II-Final.pdf            42.0  12.352263  ...  17.886746  30.084122\n",
              "Lista-III-Intermediaria.pdf   44.0   9.728530  ...  11.945488  19.310458\n",
              "Lista-IV-Inicial.pdf          45.0   4.320661  ...   5.273209   7.608644\n",
              "Lista-V-Substituto.pdf        76.0   0.000973  ...   0.000000   0.073923\n",
              "\n",
              "[5 rows x 8 columns]"
            ]
          },
          "metadata": {},
          "execution_count": 30
        }
      ]
    }
  ]
}
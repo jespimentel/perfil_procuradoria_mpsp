{
  "nbformat": 4,
  "nbformat_minor": 0,
  "metadata": {
    "colab": {
      "name": "perfil_procuradoria.ipynb",
      "provenance": [],
      "collapsed_sections": []
    },
    "kernelspec": {
      "name": "python3",
      "display_name": "Python 3"
    }
  },
  "cells": [
    {
      "cell_type": "markdown",
      "metadata": {
        "id": "UlEEOYUQiGDz",
        "colab_type": "text"
      },
      "source": [
        "# **Perfil da Procuradoria de Justiça**\n",
        "\n",
        "De acordo com a Lista de Antiguidade atualizada até 25 ago. 2020\n",
        "\n",
        "Arquivo: 'Lista-I-Procurador.pdf' (Hash MD5: e03167529f3dc0319d4a172eb4ae559f)\n",
        "\n",
        "Data em que o script foi rodado: 31 ago. 2020.\n",
        "\n",
        "**José Eduardo de Souza Pimentel**\n",
        "\n",
        "Código publicado em: https://github.com/jespimentel/ \n",
        "(sem as informações pessoais)\n",
        "\n",
        "---"
      ]
    },
    {
      "cell_type": "markdown",
      "metadata": {
        "id": "numDyXVNkRz0",
        "colab_type": "text"
      },
      "source": [
        "1) O colega Nico Maciel intuiu que, com o passar dos anos, vem aumentando o tempo de carreira para que o membro do MPSP ascenda à Procurador de Justiça e pediu-me que fizesse um código em Python que confirmasse ou não sua teoria.\n",
        "\n",
        "2) O desafio técnico da proposta consistiu em extrair as informações de um documento que é, normalmente, publicado em PDF (a Lista de Antiguidade I - dos Procuradores de Justiça) e tratar os dados obtidos.\n",
        "\n",
        "3) Optei pelo uso da biblioteca \"Tabula Py\" (no lugar de Camelot e Excalibur, que parecem ser mais eficientes na leitura de tabelas do PDF),em razão da facilidade da instalação. O programa rodou no Google Colab.\n",
        "\n",
        "4) O \"Tabula Py\" cria tabelas individuais de cada página do PDF, que foram, em seguida, concatenadas com o Pandas para a geração do dataframe.\n",
        "\n",
        "5) Por motivo desconhecido, o resultado da extração da página 4, embora exitoso, não correspondeu ao padrão das demais e recebeu tratamento específico."
      ]
    },
    {
      "cell_type": "code",
      "metadata": {
        "id": "C7diLHf0BL-a",
        "colab_type": "code",
        "colab": {
          "base_uri": "https://localhost:8080/",
          "height": 156
        },
        "outputId": "37b94b35-fb7a-43f7-cdcb-051d6e6d3f6e"
      },
      "source": [
        "!pip install tabula-py\n",
        "\n",
        "import pandas as pd\n",
        "import numpy as np\n",
        "\n",
        "from datetime import datetime\n",
        "\n",
        "import matplotlib.pyplot as plt\n",
        "%matplotlib inline\n",
        "\n",
        "import tabula"
      ],
      "execution_count": null,
      "outputs": [
        {
          "output_type": "stream",
          "text": [
            "Requirement already satisfied: tabula-py in /usr/local/lib/python3.6/dist-packages (2.1.1)\n",
            "Requirement already satisfied: distro in /usr/local/lib/python3.6/dist-packages (from tabula-py) (1.5.0)\n",
            "Requirement already satisfied: numpy in /usr/local/lib/python3.6/dist-packages (from tabula-py) (1.18.5)\n",
            "Requirement already satisfied: pandas>=0.25.3 in /usr/local/lib/python3.6/dist-packages (from tabula-py) (1.0.5)\n",
            "Requirement already satisfied: pytz>=2017.2 in /usr/local/lib/python3.6/dist-packages (from pandas>=0.25.3->tabula-py) (2018.9)\n",
            "Requirement already satisfied: python-dateutil>=2.6.1 in /usr/local/lib/python3.6/dist-packages (from pandas>=0.25.3->tabula-py) (2.8.1)\n",
            "Requirement already satisfied: six>=1.5 in /usr/local/lib/python3.6/dist-packages (from python-dateutil>=2.6.1->pandas>=0.25.3->tabula-py) (1.15.0)\n"
          ],
          "name": "stdout"
        }
      ]
    },
    {
      "cell_type": "code",
      "metadata": {
        "id": "wLnzqtmqCcum",
        "colab_type": "code",
        "colab": {
          "base_uri": "https://localhost:8080/",
          "height": 510
        },
        "outputId": "a8a94131-0560-4df8-a8f7-0e9c46689a71"
      },
      "source": [
        "# Criação de um dataframe com a Lista 1 - Procuradores de Justiça\n",
        "\n",
        "path = '/content/drive/My Drive/Datasets/Lista-I-Procurador.pdf'\n",
        "\n",
        "df = tabula.read_pdf(path, pages='1-3') # O resultado da extração da página 4 é diferente do das anteriores e será tratado separadamente"
      ],
      "execution_count": null,
      "outputs": [
        {
          "output_type": "stream",
          "text": [
            "Got stderr: Aug 31, 2020 1:15:29 PM org.apache.pdfbox.pdmodel.font.PDCIDFontType2 <init>\n",
            "INFO: OpenType Layout tables used in font CIDFont+F1 are not implemented in PDFBox and will be ignored\n",
            "Aug 31, 2020 1:15:29 PM org.apache.pdfbox.pdmodel.font.PDCIDFontType2 <init>\n",
            "INFO: OpenType Layout tables used in font CIDFont+F2 are not implemented in PDFBox and will be ignored\n",
            "Aug 31, 2020 1:15:31 PM org.apache.pdfbox.pdmodel.font.PDCIDFontType2 <init>\n",
            "INFO: OpenType Layout tables used in font CIDFont+F1 are not implemented in PDFBox and will be ignored\n",
            "Aug 31, 2020 1:15:31 PM org.apache.pdfbox.pdmodel.font.PDCIDFontType2 <init>\n",
            "INFO: OpenType Layout tables used in font CIDFont+F2 are not implemented in PDFBox and will be ignored\n",
            "Aug 31, 2020 1:15:32 PM org.apache.pdfbox.pdmodel.font.PDCIDFontType2 <init>\n",
            "INFO: OpenType Layout tables used in font CIDFont+F1 are not implemented in PDFBox and will be ignored\n",
            "Aug 31, 2020 1:15:32 PM org.apache.pdfbox.pdmodel.font.PDCIDFontType2 <init>\n",
            "INFO: OpenType Layout tables used in font CIDFont+F2 are not implemented in PDFBox and will be ignored\n",
            "Aug 31, 2020 1:15:34 PM org.apache.pdfbox.pdmodel.font.PDCIDFontType2 <init>\n",
            "INFO: OpenType Layout tables used in font CIDFont+F1 are not implemented in PDFBox and will be ignored\n",
            "Aug 31, 2020 1:15:34 PM org.apache.pdfbox.pdmodel.font.PDCIDFontType2 <init>\n",
            "INFO: OpenType Layout tables used in font CIDFont+F2 are not implemented in PDFBox and will be ignored\n",
            "Aug 31, 2020 1:15:35 PM org.apache.pdfbox.pdmodel.font.PDCIDFontType2 <init>\n",
            "INFO: OpenType Layout tables used in font CIDFont+F1 are not implemented in PDFBox and will be ignored\n",
            "Aug 31, 2020 1:15:35 PM org.apache.pdfbox.pdmodel.font.PDCIDFontType2 <init>\n",
            "INFO: OpenType Layout tables used in font CIDFont+F2 are not implemented in PDFBox and will be ignored\n",
            "Aug 31, 2020 1:15:36 PM org.apache.pdfbox.pdmodel.font.PDCIDFontType2 <init>\n",
            "INFO: OpenType Layout tables used in font CIDFont+F1 are not implemented in PDFBox and will be ignored\n",
            "Aug 31, 2020 1:15:36 PM org.apache.pdfbox.pdmodel.font.PDCIDFontType2 <init>\n",
            "INFO: OpenType Layout tables used in font CIDFont+F2 are not implemented in PDFBox and will be ignored\n",
            "Aug 31, 2020 1:15:37 PM org.apache.pdfbox.pdmodel.font.PDCIDFontType2 <init>\n",
            "INFO: OpenType Layout tables used in font CIDFont+F1 are not implemented in PDFBox and will be ignored\n",
            "Aug 31, 2020 1:15:37 PM org.apache.pdfbox.pdmodel.font.PDCIDFontType2 <init>\n",
            "INFO: OpenType Layout tables used in font CIDFont+F2 are not implemented in PDFBox and will be ignored\n",
            "\n"
          ],
          "name": "stderr"
        }
      ]
    },
    {
      "cell_type": "code",
      "metadata": {
        "id": "hrQoBTCodlZA",
        "colab_type": "code",
        "colab": {}
      },
      "source": [
        "df[0].head(5)"
      ],
      "execution_count": null,
      "outputs": []
    },
    {
      "cell_type": "code",
      "metadata": {
        "id": "X8C47pM3uabq",
        "colab_type": "code",
        "colab": {}
      },
      "source": [
        "df[0].drop([0,1], inplace=True)\n",
        "df[0].head(5)"
      ],
      "execution_count": null,
      "outputs": []
    },
    {
      "cell_type": "code",
      "metadata": {
        "id": "0165wX4Uect8",
        "colab_type": "code",
        "colab": {}
      },
      "source": [
        "df[1].head(5)"
      ],
      "execution_count": null,
      "outputs": []
    },
    {
      "cell_type": "code",
      "metadata": {
        "id": "G0dG8R8ZvGPY",
        "colab_type": "code",
        "colab": {}
      },
      "source": [
        "df[1].drop([0,1], inplace=True)\n",
        "df[1].head(5)"
      ],
      "execution_count": null,
      "outputs": []
    },
    {
      "cell_type": "code",
      "metadata": {
        "id": "XulZdjjNeiem",
        "colab_type": "code",
        "colab": {}
      },
      "source": [
        "df[2].head(5)"
      ],
      "execution_count": null,
      "outputs": []
    },
    {
      "cell_type": "code",
      "metadata": {
        "id": "bD14nllvvP9a",
        "colab_type": "code",
        "colab": {}
      },
      "source": [
        "df[2].drop([0,1], inplace=True)\n",
        "df[2].head(5)"
      ],
      "execution_count": null,
      "outputs": []
    },
    {
      "cell_type": "code",
      "metadata": {
        "id": "DkSsg2plwYSO",
        "colab_type": "code",
        "colab": {}
      },
      "source": [
        "proc_pag1_3 = pd.concat([df[0], df[1], df[2]], ignore_index=True)\n",
        "proc_pag1_3.head(5)"
      ],
      "execution_count": null,
      "outputs": []
    },
    {
      "cell_type": "code",
      "metadata": {
        "id": "Rfy6wyR9x2vw",
        "colab_type": "code",
        "colab": {}
      },
      "source": [
        "proc_pag1_3.dropna(axis=1, inplace=True)\n",
        "proc_pag1_3.head(5)"
      ],
      "execution_count": null,
      "outputs": []
    },
    {
      "cell_type": "code",
      "metadata": {
        "id": "48JmyZWQFs5E",
        "colab_type": "code",
        "colab": {}
      },
      "source": [
        "colunas = ['CLASS.', 'NOME', 'REGISTRO GERAL', 'DATA DE INCLUSÃO NA LISTA I', 'CARGO', 'SITUAÇÃO 2005', 'SITUAÇÃO ATUAL', \n",
        "           'TOTAL EM DIAS', 'CARREIRA', 'ENTRANCIA ANTERIOR', 'SERVIÇO PÚBLICO', 'NÚMERO DE FILHOS', 'DATA DO NASCIMENTO']\n",
        "proc_pag1_3.columns = colunas\n",
        "proc_pag1_3"
      ],
      "execution_count": null,
      "outputs": []
    },
    {
      "cell_type": "code",
      "metadata": {
        "id": "ehtUQa_MOXdI",
        "colab_type": "code",
        "colab": {}
      },
      "source": [
        "proc_pag1_3 = proc_pag1_3[['CLASS.', 'SITUAÇÃO ATUAL', 'TOTAL EM DIAS', 'CARREIRA', 'ENTRANCIA ANTERIOR',\n",
        "                           'SERVIÇO PÚBLICO', 'NÚMERO DE FILHOS', 'DATA DO NASCIMENTO']]\n",
        "proc_pag1_3.head(5)"
      ],
      "execution_count": null,
      "outputs": []
    },
    {
      "cell_type": "code",
      "metadata": {
        "id": "xcn7OrlQaGXL",
        "colab_type": "code",
        "colab": {}
      },
      "source": [
        "proc_pag1_3['INÍCIO NA CARREIRA'] = proc_pag1_3 ['CARREIRA'].apply(lambda x: x[0:10])\n",
        "proc_pag1_3['INÍCIO ENTR ANT'] = proc_pag1_3 ['ENTRANCIA ANTERIOR'].apply(lambda x: x[0:10])\n",
        "proc_pag1_3['INÍCIO EXERCÍCIO PROC'] = proc_pag1_3 ['SITUAÇÃO ATUAL'].apply(lambda x: x[-10:])"
      ],
      "execution_count": null,
      "outputs": []
    },
    {
      "cell_type": "code",
      "metadata": {
        "id": "vtT3SYsZJ_DZ",
        "colab_type": "code",
        "colab": {}
      },
      "source": [
        "proc_pag1_3"
      ],
      "execution_count": null,
      "outputs": []
    },
    {
      "cell_type": "code",
      "metadata": {
        "id": "CSLUwZPCenFZ",
        "colab_type": "code",
        "colab": {}
      },
      "source": [
        "df_4 = tabula.read_pdf(path, pages='4')\n",
        "df_4[0].head(7)"
      ],
      "execution_count": null,
      "outputs": []
    },
    {
      "cell_type": "code",
      "metadata": {
        "id": "NftuEaqn9Wi3",
        "colab_type": "code",
        "colab": {}
      },
      "source": [
        "df_4[0].drop([0, 1, 2, 3, 4], inplace=True)"
      ],
      "execution_count": null,
      "outputs": []
    },
    {
      "cell_type": "code",
      "metadata": {
        "id": "MmlLAx62CKkz",
        "colab_type": "code",
        "colab": {}
      },
      "source": [
        "df_4[0].dropna(axis=1, inplace=True)\n",
        "proc_pag4 = df_4[0]\n",
        "proc_pag4.head(5)"
      ],
      "execution_count": null,
      "outputs": []
    },
    {
      "cell_type": "code",
      "metadata": {
        "id": "qWX4AsHkJXlb",
        "colab_type": "code",
        "colab": {}
      },
      "source": [
        "colunas = ['CLASS.-NOME-RG-DATA_LISTA_I-CARGO', 'SITUAÇÃO 2005', 'ENTRANCIA ATUAL', 'INÍCIO DE EXERCÍCIO','TOTAL EM DIAS', \n",
        "           'CARREIRA: INÍCIO-DIAS', 'ENTRANCIA ANTERIOR - INÍCIO-DIAS', 'SERVIÇO PÚBLICO', 'NÚMERO DE FILHOS', 'DATA DO NASCIMENTO']\n",
        "proc_pag4.columns = colunas\n",
        "proc_pag4.head(5)"
      ],
      "execution_count": null,
      "outputs": []
    },
    {
      "cell_type": "code",
      "metadata": {
        "id": "WUmJYpI3Zh4b",
        "colab_type": "code",
        "colab": {}
      },
      "source": [
        "proc_pag4['CLASS.'] = proc_pag4['CLASS.-NOME-RG-DATA_LISTA_I-CARGO'].apply(lambda x: x[0:3])\n",
        "proc_pag4['INÍCIO NA CARREIRA'] = proc_pag4['CARREIRA: INÍCIO-DIAS'].apply(lambda x: x[0:10])\n",
        "proc_pag4['INÍCIO ENTR ANT'] = proc_pag4['ENTRANCIA ANTERIOR - INÍCIO-DIAS'].apply(lambda x: x[0:10])\n",
        "proc_pag4['INÍCIO EXERCÍCIO PROC'] = proc_pag4['INÍCIO DE EXERCÍCIO'].apply(lambda x: x)"
      ],
      "execution_count": null,
      "outputs": []
    },
    {
      "cell_type": "code",
      "metadata": {
        "id": "5H7EKeYWdfmv",
        "colab_type": "code",
        "colab": {}
      },
      "source": [
        "colunas_relev = ['CLASS.', 'DATA DO NASCIMENTO', 'INÍCIO NA CARREIRA', 'INÍCIO ENTR ANT', \n",
        "                 'INÍCIO EXERCÍCIO PROC', 'SERVIÇO PÚBLICO','NÚMERO DE FILHOS']\n",
        "proc_pag1_3 = proc_pag1_3[colunas_relev]\n",
        "proc_pag4 = proc_pag4[colunas_relev]"
      ],
      "execution_count": null,
      "outputs": []
    },
    {
      "cell_type": "code",
      "metadata": {
        "id": "Ob-nlOh3f7lk",
        "colab_type": "code",
        "colab": {}
      },
      "source": [
        "proc_lista = pd.concat([proc_pag1_3, proc_pag4], ignore_index=True)\n",
        "proc_lista"
      ],
      "execution_count": null,
      "outputs": []
    },
    {
      "cell_type": "code",
      "metadata": {
        "id": "-pAtFMkeg51j",
        "colab_type": "code",
        "colab": {
          "base_uri": "https://localhost:8080/",
          "height": 68
        },
        "outputId": "b1a7f3b5-20a0-4300-94e6-eb3185eab7c8"
      },
      "source": [
        "proc_lista.columns"
      ],
      "execution_count": null,
      "outputs": [
        {
          "output_type": "execute_result",
          "data": {
            "text/plain": [
              "Index(['CLASS.', 'DATA DO NASCIMENTO', 'INÍCIO NA CARREIRA', 'INÍCIO ENTR ANT',\n",
              "       'INÍCIO EXERCÍCIO PROC', 'SERVIÇO PÚBLICO', 'NÚMERO DE FILHOS'],\n",
              "      dtype='object')"
            ]
          },
          "metadata": {
            "tags": []
          },
          "execution_count": 22
        }
      ]
    },
    {
      "cell_type": "code",
      "metadata": {
        "id": "GAzf9MTzk8O-",
        "colab_type": "code",
        "colab": {}
      },
      "source": [
        "proc_lista[['DATA DO NASCIMENTO', 'INÍCIO NA CARREIRA', 'INÍCIO ENTR ANT','INÍCIO EXERCÍCIO PROC']] = proc_lista[['DATA DO NASCIMENTO', 'INÍCIO NA CARREIRA', 'INÍCIO ENTR ANT','INÍCIO EXERCÍCIO PROC']].astype('datetime64')"
      ],
      "execution_count": null,
      "outputs": []
    },
    {
      "cell_type": "code",
      "metadata": {
        "id": "mzTQzkObKYFO",
        "colab_type": "code",
        "colab": {}
      },
      "source": [
        "proc_lista['Idade de ingresso no MP'] = (proc_lista['INÍCIO NA CARREIRA'] - proc_lista['DATA DO NASCIMENTO'])/ np.timedelta64(1, 'Y')\n",
        "proc_lista['Idade de ing. entrância anterior'] = (proc_lista['INÍCIO ENTR ANT'] - proc_lista['DATA DO NASCIMENTO'])/ np.timedelta64(1, 'Y')\n",
        "proc_lista['Idade de qdo foi promovido a Procurador'] = (proc_lista['INÍCIO EXERCÍCIO PROC'] - proc_lista['DATA DO NASCIMENTO'])/ np.timedelta64(1, 'Y')\n",
        "proc_lista['Tempo de carreira qdo da prom. a Procurador'] = (proc_lista['INÍCIO EXERCÍCIO PROC'] - proc_lista['INÍCIO NA CARREIRA'])/ np.timedelta64(1, 'Y')\n",
        "proc_lista['Tempo de carreira total'] = (datetime.now () - proc_lista['INÍCIO NA CARREIRA'])/ np.timedelta64(1, 'Y')\n",
        "proc_lista['Tempo como Procurador'] = (datetime.now ()- proc_lista['INÍCIO EXERCÍCIO PROC'])/ np.timedelta64(1, 'Y')\n",
        "proc_lista['Porcentagem de tempo como procurador (em relação ao tempo de carreira'] = proc_lista['Tempo como Procurador']/proc_lista['Tempo de carreira total']*100\n",
        "proc_lista['Idade atual'] = (datetime.now ()- proc_lista['DATA DO NASCIMENTO'])/ np.timedelta64(1, 'Y')"
      ],
      "execution_count": null,
      "outputs": []
    },
    {
      "cell_type": "code",
      "metadata": {
        "id": "OvL5seusQHTJ",
        "colab_type": "code",
        "colab": {}
      },
      "source": [
        "proc_lista.set_index('CLASS.', inplace=True)\n",
        "proc_lista"
      ],
      "execution_count": null,
      "outputs": []
    },
    {
      "cell_type": "code",
      "metadata": {
        "id": "eFFhequUoWrV",
        "colab_type": "code",
        "colab": {
          "base_uri": "https://localhost:8080/",
          "height": 512
        },
        "outputId": "87be36d1-8751-4edd-d2da-4c22f5b0aded"
      },
      "source": [
        "plt.style.use('seaborn')\n",
        "plt.figure(figsize=(10, 8))\n",
        "plt.hist((proc_lista['Idade de ingresso no MP']), color = 'royalblue')\n",
        "plt.title('Procuradores atuais: idade de ingresso no MP')\n",
        "plt.grid(True)\n",
        "plt.xlabel('Idade')\n",
        "plt.ylabel('Quantidade')\n",
        "plt.savefig('/content/drive/My Drive/tmp/01_idade_ingresso_mp.png')\n",
        "plt.show()\n",
        "plt.close()"
      ],
      "execution_count": null,
      "outputs": [
        {
          "output_type": "display_data",
          "data": {
            "image/png": "[encoded data removed]",
            "text/plain": [
              "<Figure size 720x576 with 1 Axes>"
            ]
          },
          "metadata": {
            "tags": []
          }
        }
      ]
    },
    {
      "cell_type": "code",
      "metadata": {
        "id": "EvqD34Pap4ID",
        "colab_type": "code",
        "colab": {
          "base_uri": "https://localhost:8080/",
          "height": 512
        },
        "outputId": "c045f74e-b33d-49eb-8146-8dd4e77b333f"
      },
      "source": [
        "plt.style.use('seaborn')\n",
        "plt.figure(figsize=(10, 8))\n",
        "plt.hist((proc_lista['Idade de ing. entrância anterior']), color = 'lawngreen')\n",
        "plt.title('Procuradores atuais: idade de ingresso na Entrância Anterior')\n",
        "plt.grid(True)\n",
        "plt.xlabel('Idade')\n",
        "plt.ylabel('Quantidade')\n",
        "plt.savefig('/content/drive/My Drive/tmp/02_idade_entr_ant.png')\n",
        "plt.show()\n",
        "plt.close()"
      ],
      "execution_count": null,
      "outputs": [
        {
          "output_type": "display_data",
          "data": {
            "image/png": "[encoded data removed]",
            "text/plain": [
              "<Figure size 720x576 with 1 Axes>"
            ]
          },
          "metadata": {
            "tags": []
          }
        }
      ]
    },
    {
      "cell_type": "code",
      "metadata": {
        "id": "uLBmkcUHqNx1",
        "colab_type": "code",
        "colab": {
          "base_uri": "https://localhost:8080/",
          "height": 512
        },
        "outputId": "0b1ad57c-67fa-4a58-c5d4-1b27a1c69eaf"
      },
      "source": [
        "plt.style.use('seaborn')\n",
        "plt.figure(figsize=(10, 8))\n",
        "plt.hist((proc_lista['Idade de qdo foi promovido a Procurador']), color = 'red')\n",
        "plt.grid(True)\n",
        "plt.title('Procuradores atuais: idade de quando foram promovidos a Procurador de Justiça')\n",
        "plt.xlabel('Idade')\n",
        "plt.ylabel('Quantidade')\n",
        "plt.savefig('/content/drive/My Drive/tmp/03_idade_inicio_procurador.png')\n",
        "plt.show()\n",
        "plt.close()"
      ],
      "execution_count": null,
      "outputs": [
        {
          "output_type": "display_data",
          "data": {
            "image/png": "[encoded data removed]",
            "text/plain": [
              "<Figure size 720x576 with 1 Axes>"
            ]
          },
          "metadata": {
            "tags": []
          }
        }
      ]
    },
    {
      "cell_type": "code",
      "metadata": {
        "id": "LhL7-S1sgXLa",
        "colab_type": "code",
        "colab": {
          "base_uri": "https://localhost:8080/",
          "height": 512
        },
        "outputId": "cb2b4b23-e157-42a1-b0ec-86aa047e9347"
      },
      "source": [
        "plt.style.use('seaborn')\n",
        "plt.figure(figsize=(10, 8))\n",
        "plt.hist((proc_lista['Tempo de carreira qdo da prom. a Procurador']), color = 'orange')\n",
        "plt.grid(True)\n",
        "plt.title('Procuradores atuais: tempo de carreira quando promovidos a Procurador de Justiça')\n",
        "plt.xlabel('Idade')\n",
        "plt.ylabel('Quantidade')\n",
        "plt.savefig('/content/drive/My Drive/tmp/04_tempo_carreira_prom_procurador.png')\n",
        "plt.show()\n",
        "plt.close()"
      ],
      "execution_count": null,
      "outputs": [
        {
          "output_type": "display_data",
          "data": {
            "image/png": "[encoded data removed]",
            "text/plain": [
              "<Figure size 720x576 with 1 Axes>"
            ]
          },
          "metadata": {
            "tags": []
          }
        }
      ]
    },
    {
      "cell_type": "code",
      "metadata": {
        "id": "dcnxrTxWQhb4",
        "colab_type": "code",
        "colab": {
          "base_uri": "https://localhost:8080/",
          "height": 512
        },
        "outputId": "a6433452-f240-40d7-fcaa-70aa30dacb79"
      },
      "source": [
        "plt.style.use('seaborn')\n",
        "plt.figure(figsize=(10, 8))\n",
        "plt.hist((proc_lista['Tempo como Procurador']), color = 'navy')\n",
        "plt.grid(True)\n",
        "plt.title('Procuradores atuais: tempo como Procurador')\n",
        "plt.xlabel('Tempo')\n",
        "plt.ylabel('Quantidade')\n",
        "plt.savefig('/content/drive/My Drive/tmp/05_tempo_como_procurador.png')\n",
        "plt.show()\n",
        "plt.close()"
      ],
      "execution_count": null,
      "outputs": [
        {
          "output_type": "display_data",
          "data": {
            "image/png": "[encoded data removed]",
            "text/plain": [
              "<Figure size 720x576 with 1 Axes>"
            ]
          },
          "metadata": {
            "tags": []
          }
        }
      ]
    },
    {
      "cell_type": "code",
      "metadata": {
        "id": "NQFcLfMtq86s",
        "colab_type": "code",
        "colab": {
          "base_uri": "https://localhost:8080/",
          "height": 512
        },
        "outputId": "01c6dcbb-684d-4289-b7be-82f284f157bf"
      },
      "source": [
        "plt.style.use('seaborn')\n",
        "plt.figure(figsize=(10, 8))\n",
        "plt.hist((proc_lista['Idade atual']), color = 'violet')\n",
        "plt.grid(True)\n",
        "plt.title('Procuradores atuais: distribuição da idade')\n",
        "plt.xlabel('Idade')\n",
        "plt.ylabel('Quantidade')\n",
        "plt.savefig('/content/drive/My Drive/tmp/06_idade_atual.png')\n",
        "plt.show()\n",
        "plt.close()"
      ],
      "execution_count": null,
      "outputs": [
        {
          "output_type": "display_data",
          "data": {
            "image/png": "[encoded data removed]",
            "text/plain": [
              "<Figure size 720x576 with 1 Axes>"
            ]
          },
          "metadata": {
            "tags": []
          }
        }
      ]
    },
    {
      "cell_type": "code",
      "metadata": {
        "id": "UVnnR5ZKuZHL",
        "colab_type": "code",
        "colab": {
          "base_uri": "https://localhost:8080/",
          "height": 554
        },
        "outputId": "0ecd5ca6-39d5-429a-f523-5cac717c3a06"
      },
      "source": [
        "plt.style.use('fivethirtyeight')\n",
        "plt.figure(figsize=(10, 8))\n",
        "plt.plot((proc_lista.groupby('INÍCIO EXERCÍCIO PROC')['Tempo de carreira qdo da prom. a Procurador'].mean()), '*r')\n",
        "plt.grid(True)\n",
        "plt.title('Tempo de carreira para a promoção a Procurador de Justiça')\n",
        "plt.xlabel('Ano')\n",
        "plt.ylabel('Tempo de carreira')\n",
        "plt.savefig('/content/drive/My Drive/tmp/07_tempo_de_carreira_promocao.png')\n",
        "plt.show()\n",
        "plt.close()"
      ],
      "execution_count": null,
      "outputs": [
        {
          "output_type": "display_data",
          "data": {
            "image/png": "[encoded data removed]",
            "text/plain": [
              "<Figure size 720x576 with 1 Axes>"
            ]
          },
          "metadata": {
            "tags": []
          }
        }
      ]
    },
    {
      "cell_type": "code",
      "metadata": {
        "id": "C_CQneSggnF8",
        "colab_type": "code",
        "colab": {
          "base_uri": "https://localhost:8080/",
          "height": 554
        },
        "outputId": "d29b415a-46f1-48df-be61-48072f4905a5"
      },
      "source": [
        "plt.style.use('fivethirtyeight')\n",
        "plt.figure(figsize=(10, 8))\n",
        "plt.plot((proc_lista.groupby('INÍCIO EXERCÍCIO PROC')['Idade de qdo foi promovido a Procurador'].mean()), 'Dk')\n",
        "plt.grid(True)\n",
        "plt.title('Idade quando da promoção a Procurador de Justiça')\n",
        "plt.xlabel('Ano')\n",
        "plt.ylabel('Idade')\n",
        "plt.savefig('/content/drive/My Drive/tmp/08_idade_quando_da_promocao.png')\n",
        "plt.show()\n",
        "plt.close()"
      ],
      "execution_count": null,
      "outputs": [
        {
          "output_type": "display_data",
          "data": {
            "image/png": "[encoded data removed]",
            "text/plain": [
              "<Figure size 720x576 with 1 Axes>"
            ]
          },
          "metadata": {
            "tags": []
          }
        }
      ]
    },
    {
      "cell_type": "code",
      "metadata": {
        "id": "0nLQJILLUBdY",
        "colab_type": "code",
        "colab": {
          "base_uri": "https://localhost:8080/",
          "height": 374
        },
        "outputId": "b8be43d5-e4b6-4993-fd17-c40f6ef57655"
      },
      "source": [
        "proc_lista['SERVIÇO PÚBLICO'] = pd.to_numeric (proc_lista['SERVIÇO PÚBLICO'], errors='coerce')\n",
        "proc_lista['NÚMERO DE FILHOS'] = pd.to_numeric (proc_lista['NÚMERO DE FILHOS'], errors='coerce')\n",
        "proc_lista.info()"
      ],
      "execution_count": null,
      "outputs": [
        {
          "output_type": "stream",
          "text": [
            "<class 'pandas.core.frame.DataFrame'>\n",
            "Index: 291 entries, 1 to 291\n",
            "Data columns (total 14 columns):\n",
            " #   Column                                                                 Non-Null Count  Dtype         \n",
            "---  ------                                                                 --------------  -----         \n",
            " 0   DATA DO NASCIMENTO                                                     291 non-null    datetime64[ns]\n",
            " 1   INÍCIO NA CARREIRA                                                     291 non-null    datetime64[ns]\n",
            " 2   INÍCIO ENTR ANT                                                        291 non-null    datetime64[ns]\n",
            " 3   INÍCIO EXERCÍCIO PROC                                                  291 non-null    datetime64[ns]\n",
            " 4   SERVIÇO PÚBLICO                                                        160 non-null    float64       \n",
            " 5   NÚMERO DE FILHOS                                                       241 non-null    float64       \n",
            " 6   Idade de ingresso no MP                                                291 non-null    float64       \n",
            " 7   Idade de ing. entrância anterior                                       291 non-null    float64       \n",
            " 8   Idade de qdo foi promovido a Procurador                                291 non-null    float64       \n",
            " 9   Tempo de carreira qdo da prom. a Procurador                            291 non-null    float64       \n",
            " 10  Tempo de carreira total                                                291 non-null    float64       \n",
            " 11  Tempo como Procurador                                                  291 non-null    float64       \n",
            " 12  Porcentagem de tempo como procurador (em relação ao tempo de carreira  291 non-null    float64       \n",
            " 13  Idade atual                                                            291 non-null    float64       \n",
            "dtypes: datetime64[ns](4), float64(10)\n",
            "memory usage: 34.1+ KB\n"
          ],
          "name": "stdout"
        }
      ]
    },
    {
      "cell_type": "code",
      "metadata": {
        "id": "qyalEd54UQh8",
        "colab_type": "code",
        "colab": {
          "base_uri": "https://localhost:8080/",
          "height": 399
        },
        "outputId": "d2922860-3d78-431d-d0cc-4c5b8f8af499"
      },
      "source": [
        "proc_lista.describe()"
      ],
      "execution_count": null,
      "outputs": [
        {
          "output_type": "execute_result",
          "data": {
            "text/html": [
              "<div>\n",
              "<style scoped>\n",
              "    .dataframe tbody tr th:only-of-type {\n",
              "        vertical-align: middle;\n",
              "    }\n",
              "\n",
              "    .dataframe tbody tr th {\n",
              "        vertical-align: top;\n",
              "    }\n",
              "\n",
              "    .dataframe thead th {\n",
              "        text-align: right;\n",
              "    }\n",
              "</style>\n",
              "<table border=\"1\" class=\"dataframe\">\n",
              "  <thead>\n",
              "    <tr style=\"text-align: right;\">\n",
              "      <th></th>\n",
              "      <th>SERVIÇO PÚBLICO</th>\n",
              "      <th>NÚMERO DE FILHOS</th>\n",
              "      <th>Idade de ingresso no MP</th>\n",
              "      <th>Idade de ing. entrância anterior</th>\n",
              "      <th>Idade de qdo foi promovido a Procurador</th>\n",
              "      <th>Tempo de carreira qdo da prom. a Procurador</th>\n",
              "      <th>Tempo de carreira total</th>\n",
              "      <th>Tempo como Procurador</th>\n",
              "      <th>Porcentagem de tempo como procurador (em relação ao tempo de carreira</th>\n",
              "      <th>Idade atual</th>\n",
              "    </tr>\n",
              "  </thead>\n",
              "  <tbody>\n",
              "    <tr>\n",
              "      <th>count</th>\n",
              "      <td>160.000000</td>\n",
              "      <td>241.000000</td>\n",
              "      <td>291.000000</td>\n",
              "      <td>291.000000</td>\n",
              "      <td>291.000000</td>\n",
              "      <td>291.000000</td>\n",
              "      <td>291.000000</td>\n",
              "      <td>291.000000</td>\n",
              "      <td>291.000000</td>\n",
              "      <td>291.000000</td>\n",
              "    </tr>\n",
              "    <tr>\n",
              "      <th>mean</th>\n",
              "      <td>244.571487</td>\n",
              "      <td>2.087137</td>\n",
              "      <td>26.854370</td>\n",
              "      <td>30.919250</td>\n",
              "      <td>48.987949</td>\n",
              "      <td>22.133579</td>\n",
              "      <td>33.595321</td>\n",
              "      <td>11.461742</td>\n",
              "      <td>32.344631</td>\n",
              "      <td>60.449692</td>\n",
              "    </tr>\n",
              "    <tr>\n",
              "      <th>std</th>\n",
              "      <td>287.140342</td>\n",
              "      <td>0.793647</td>\n",
              "      <td>3.279844</td>\n",
              "      <td>3.834983</td>\n",
              "      <td>6.014208</td>\n",
              "      <td>5.197687</td>\n",
              "      <td>3.839592</td>\n",
              "      <td>8.062046</td>\n",
              "      <td>19.671929</td>\n",
              "      <td>5.133712</td>\n",
              "    </tr>\n",
              "    <tr>\n",
              "      <th>min</th>\n",
              "      <td>1.026000</td>\n",
              "      <td>1.000000</td>\n",
              "      <td>22.341321</td>\n",
              "      <td>25.270882</td>\n",
              "      <td>31.565330</td>\n",
              "      <td>8.290382</td>\n",
              "      <td>27.695442</td>\n",
              "      <td>0.664086</td>\n",
              "      <td>2.082970</td>\n",
              "      <td>50.899204</td>\n",
              "    </tr>\n",
              "    <tr>\n",
              "      <th>25%</th>\n",
              "      <td>2.896250</td>\n",
              "      <td>2.000000</td>\n",
              "      <td>24.318090</td>\n",
              "      <td>27.973196</td>\n",
              "      <td>45.327419</td>\n",
              "      <td>19.979876</td>\n",
              "      <td>30.800229</td>\n",
              "      <td>5.147409</td>\n",
              "      <td>16.234215</td>\n",
              "      <td>56.640595</td>\n",
              "    </tr>\n",
              "    <tr>\n",
              "      <th>50%</th>\n",
              "      <td>106.500000</td>\n",
              "      <td>2.000000</td>\n",
              "      <td>26.007379</td>\n",
              "      <td>30.043054</td>\n",
              "      <td>48.726531</td>\n",
              "      <td>22.034676</td>\n",
              "      <td>32.568917</td>\n",
              "      <td>11.637618</td>\n",
              "      <td>33.376573</td>\n",
              "      <td>59.507184</td>\n",
              "    </tr>\n",
              "    <tr>\n",
              "      <th>75%</th>\n",
              "      <td>450.000000</td>\n",
              "      <td>2.000000</td>\n",
              "      <td>28.212763</td>\n",
              "      <td>32.882263</td>\n",
              "      <td>52.383006</td>\n",
              "      <td>26.040234</td>\n",
              "      <td>36.057010</td>\n",
              "      <td>16.330390</td>\n",
              "      <td>43.404333</td>\n",
              "      <td>64.436785</td>\n",
              "    </tr>\n",
              "    <tr>\n",
              "      <th>max</th>\n",
              "      <td>922.000000</td>\n",
              "      <td>6.000000</td>\n",
              "      <td>40.066531</td>\n",
              "      <td>46.566322</td>\n",
              "      <td>67.590710</td>\n",
              "      <td>38.158210</td>\n",
              "      <td>46.751275</td>\n",
              "      <td>34.874234</td>\n",
              "      <td>80.705452</td>\n",
              "      <td>74.234386</td>\n",
              "    </tr>\n",
              "  </tbody>\n",
              "</table>\n",
              "</div>"
            ],
            "text/plain": [
              "       SERVIÇO PÚBLICO  ...  Idade atual\n",
              "count       160.000000  ...   291.000000\n",
              "mean        244.571487  ...    60.449692\n",
              "std         287.140342  ...     5.133712\n",
              "min           1.026000  ...    50.899204\n",
              "25%           2.896250  ...    56.640595\n",
              "50%         106.500000  ...    59.507184\n",
              "75%         450.000000  ...    64.436785\n",
              "max         922.000000  ...    74.234386\n",
              "\n",
              "[8 rows x 10 columns]"
            ]
          },
          "metadata": {
            "tags": []
          },
          "execution_count": 35
        }
      ]
    },
    {
      "cell_type": "code",
      "metadata": {
        "id": "AysDXxbfarLY",
        "colab_type": "code",
        "colab": {}
      },
      "source": [
        "proc_lista"
      ],
      "execution_count": null,
      "outputs": []
    },
    {
      "cell_type": "code",
      "metadata": {
        "id": "sYJutUrSasj9",
        "colab_type": "code",
        "colab": {}
      },
      "source": [
        "proc_lista.to_excel('/content/drive/My Drive/tmp/lista_procuradores.xlsx')"
      ],
      "execution_count": null,
      "outputs": []
    }
  ]
}